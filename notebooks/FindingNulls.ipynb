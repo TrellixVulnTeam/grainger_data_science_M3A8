{
 "cells": [
  {
   "cell_type": "code",
   "execution_count": 10,
   "metadata": {},
   "outputs": [],
   "source": [
    "import pandas\n",
    "import numpy\n",
    "import scipy\n",
    "import requests\n",
    "import shutil\n",
    "import csv"
   ]
  },
  {
   "cell_type": "code",
   "execution_count": 6,
   "metadata": {},
   "outputs": [],
   "source": [
    "def download_file(url, filename):\n",
    "    with requests.get(\n",
    "        url ,\n",
    "        stream = True ,\n",
    "    ) as resp:\n",
    "        with open(filename, 'wb') as f:\n",
    "            shutil.copyfileobj(resp.raw, f)\n",
    "    return filename\n",
    "    "
   ]
  },
  {
   "cell_type": "code",
   "execution_count": 19,
   "metadata": {},
   "outputs": [],
   "source": [
    "filename = '../data/parking_citations.corrupted.csv'\n"
   ]
  },
  {
   "cell_type": "code",
   "execution_count": 7,
   "metadata": {},
   "outputs": [
    {
     "data": {
      "text/plain": [
       "'../data/parking_citations.corrupted.csv'"
      ]
     },
     "execution_count": 7,
     "metadata": {},
     "output_type": "execute_result"
    }
   ],
   "source": [
    "download_file(\n",
    "    'https://s3-us-west-2.amazonaws.com/pcadsassessment/parking_citations.corrupted.csv',\n",
    "    filename ,\n",
    ")"
   ]
  },
  {
   "cell_type": "code",
   "execution_count": 28,
   "metadata": {},
   "outputs": [],
   "source": [
    "# Check the file schema and first few lines\n",
    "def display_csv_lines(filename, max_lines=10):\n",
    "    count = 1\n",
    "    with open(filename) as f:\n",
    "        reader = csv.reader(f)\n",
    "        for row in reader:\n",
    "            if count > max_lines:\n",
    "                break\n",
    "            print row[8]\n",
    "            count += 1\n",
    "            \n",
    "def row_lengths(filename):\n",
    "    lengths = set()\n",
    "    with open(filename) as f:\n",
    "        reader = csv.reader(f)\n",
    "        for row in reader:\n",
    "            lengths.add(len(row))\n",
    "    return lengths\n",
    "\n",
    "def unique_makes(filename):\n",
    "    makes = set()\n",
    "    with open(filename) as f:\n",
    "        reader = csv.reader(f)\n",
    "        for row in reader:\n",
    "            makes.add(row[8])\n",
    "    return makes\n",
    "    \n",
    "def count_null_makes(filename):\n",
    "    nulls = 0\n",
    "    with open(filename) as f:\n",
    "        reader = csv.reader(f)\n",
    "        for row in reader:\n",
    "            if row[8] == '':\n",
    "                nulls += 1\n",
    "    return nulls\n",
    "\n",
    "def count_null_second_half(filename, halfway):\n",
    "    nulls = 0\n",
    "    count = 0\n",
    "    with open(filename) as f:\n",
    "        reader = csv.reader(f)\n",
    "        for row in reader:\n",
    "            count += 1\n",
    "            if count > halfway and row[8] == '':\n",
    "                nulls += 1\n",
    "    return nulls"
   ]
  },
  {
   "cell_type": "code",
   "execution_count": 20,
   "metadata": {},
   "outputs": [
    {
     "name": "stdout",
     "output_type": "stream",
     "text": [
      "Make\n",
      "\n",
      "\n",
      "\n",
      "\n",
      "CHEV\n",
      "\n",
      "MAZD\n",
      "\n",
      "\n"
     ]
    }
   ],
   "source": [
    "display_csv_lines(filename)"
   ]
  },
  {
   "cell_type": "code",
   "execution_count": null,
   "metadata": {},
   "outputs": [],
   "source": [
    "['Ticket number', 'Issue Date', 'Issue time', 'Meter Id', 'Marked Time', 'RP State Plate', 'Plate Expiry Date', 'VIN', 'Make', 'Body Style', 'Color', 'Location', 'Route', 'Agency', 'Violation code', 'Violation Description', 'Fine amount', 'Latitude', 'Longitude']"
   ]
  },
  {
   "cell_type": "code",
   "execution_count": 21,
   "metadata": {},
   "outputs": [],
   "source": [
    "# Rows are all the same length...that's not how we identify missing Make\n",
    "lengths = row_lengths(filename)\n",
    "print(lengths) #set([19])"
   ]
  },
  {
   "cell_type": "code",
   "execution_count": 24,
   "metadata": {
    "collapsed": true
   },
   "outputs": [
    {
     "name": "stdout",
     "output_type": "stream",
     "text": [
      "set(['', 'SSPP', 'KYK', 'GSCR', 'PRNT', 'SPT', 'LASB', 'LASE', 'BWM', 'GT', 'TRTT', 'JAYC', 'MEID', 'GD', 'GO', 'GM', 'MZDA', 'ZHON', 'HONE', 'HOND', 'MAS', 'MAT', 'HIVC', 'PRPO', 'MAZ', 'HONI', 'MAC', 'AMCL', 'AMCE', 'AMCA', 'TRAN', 'BEN', 'TTC', 'SIL', 'PIAG', 'PTNB', 'GRU', 'TONE', 'TONG', 'GARB', 'GRY', 'ZZ', 'HUDI', 'HUDY', 'ZNEN', 'LBAZ', 'ARTS', 'MOBI', 'TASL', 'DROS', 'PSSA', 'PRNN', 'WHT', 'DUES', 'TAZH', 'EFAB', 'HNAC', 'DOVE', 'IVEC', 'FRUT', 'FRUE', 'FERA', 'COHN', 'WRAN', 'JENS', 'EJET', 'MOTO', 'ABAR', 'UKN', 'FERR', 'LE', 'SEMI', 'TEIS', 'LR', 'LX', 'BLBR', 'FRGT', 'FORM', 'KROM', 'FORE', 'FORD', 'EXCE', 'FRGH', 'KEYE', 'KWAN', 'JANC', 'DDOG', 'TLMR', 'TRUP', 'HAMD', 'TRUM', 'TRUC', 'HAMM', 'BYD', 'AUHE', 'HYLI', 'ASTN', 'ASTO', 'VLSG', 'SAA', 'SAF', 'TVLO', 'PRU', 'RELI', 'HIUC', 'PRQW', 'KNGS', 'BRUG', 'SAT', 'CHA', 'STUD', 'MRZ', 'NNBG', 'MRZD', 'CHR', 'ISU', 'CHY', 'HORN', 'APR', 'SUPR', 'PTBT', 'SUPO', 'SUPD', 'SUPE', 'HORT', 'HRIC', 'HRII', 'JBBI', 'HMR', 'LIEB', 'SUBU', 'SUBR', 'SUBY', 'JDBE', 'SUBA', 'BAJA', 'LARP', 'MEDE', 'PROW', 'PROV', 'PROU', 'CRES', 'PROS', 'BTX', 'SSR', 'LARA', 'LARE', 'MEDU', 'BTM', 'JRLC', 'SAAB', 'VW', 'DYNA', 'LAND', 'LANC', 'TETR', 'ECLP', 'LANR', 'EXPL', 'EXPC', 'LND', 'LNC', 'TRIN', 'IDBI', 'RVRG', 'TRIU', 'TRIS', 'LEXU', 'LEXS', 'LEXX', 'LEXE', 'SPAR', 'LEXI', 'MBNZ', 'DRLN', 'FRHI', 'FRHF', 'FRHG', 'ROKE', 'CAMR', 'POR', 'ROKW', 'ROEN', 'WECO', 'MILE', 'OLSM', 'MILL', 'AIRB', 'AIRE', 'AIRS', 'TUFF', 'AIRX', 'HUN', 'ABRI', 'IMT', 'CHEV', 'CHET', 'ENTE', 'ENTO', 'CHEF', 'CHEE', 'CHEC', 'CHEL', 'INIF', 'SWEN', 'HONDA', 'WOND', 'WEE', 'SNVG', 'IRHT', 'SENT', 'CMIC', 'DMW', 'SABZ', 'MIHI', 'BUS', 'POUR', 'SABU', 'KW', 'CRDA', 'SABA', 'MZBZ', 'INFY', 'MNIT', 'MNIC', 'MAZE', 'WNBO', 'KAWZ', 'KURG', 'WNBG', 'MAZA', 'MON', 'YAMA', 'RIVE', 'ITAC', 'WAJR', 'CRVT', 'ITAL', 'HNO', 'VKLS', 'ITAS', 'HRTL', 'ROVR', 'TORI', 'KRYS', 'ROVE', 'LAZD', 'HIND', 'ADIA', 'SECU', 'GALA', 'FHN', 'RODE', 'FRWN', 'FRWS', 'LOZ', 'JUAG', 'FABR', 'MODZ', 'VA', 'AVTI', 'VN', 'FTWD', 'ISZU', 'HPA', 'LAMB', 'LAMD', 'LAMO', 'ALPE', 'ALPH', 'CONQ', 'DOLI', 'CONT', 'CANA', 'SNQS', 'PECE', 'JNDO', 'DOLP', 'JNDD', 'ALLG', 'ALLE', 'ALLD', 'RVR', 'ALLY', 'BLNK', 'DRME', 'FRIT', 'DRMR', 'FRIG', 'FRIE', 'STLG', 'METR', 'HY', 'SURB', 'RDRN', 'SURA', 'HT', 'RDRG', 'JPEG', 'HA', 'GDAN', 'HD', 'MNZ', 'SCI', 'WNEG', 'MNI', 'MNM', 'MNN', 'SUNS', 'MNA', 'MNB', 'ACOR', 'WNSS', 'DAIH', 'CAPR', 'SIZU', 'SNCT', 'YAMH', 'SNCR', 'SNCS', 'AVD', 'MUNI', 'ESTB', 'SUN', 'Make', 'WHI', 'SUV', 'SUP', 'R/R', 'SUZ', 'PTBR', 'CHCM', 'HUAN', 'ODSE', 'TES', 'RENA', 'RENE', 'HYNU', 'SULT', 'CORN', 'GMG', 'CORT', 'CORV', 'CORS', 'JETT', 'BRO', 'CIRC', 'OPNR', 'DUTS', 'DUTC', 'OVRL', 'NISS', 'SHOR', 'EST', 'TROO', 'VICT', 'HON', 'RVTR', 'BEVR', 'FMCS', 'CRYR', 'CRYS', 'CRYL', 'HOU', 'TROU', 'WEST', 'LLFS', 'ROUG', 'WBAG', 'LJBR', 'SHST', 'CNQS', 'NPRT', 'RAMP', 'STKN', 'LUFK', 'RAME', 'RAMG', 'EXRE', 'FIA', 'DIAM', 'DIAD', 'WILS', 'WILL', 'WILD', 'PCH', 'CMW', 'JEEP', 'FEIN', 'XLSP', 'BMER', 'JEED', 'MAUN', 'FLAT', 'COOP', 'FLAR', 'FLAZ', 'SUB', 'OMEG', 'FLAI', 'DOOH', 'PLMO', 'MG', 'MC', 'MB', 'INT', 'INV', 'MN', 'MH', 'MV', 'INI', 'IND', 'INF', 'SWIN', 'COSC', 'SWID', 'LIBE', 'ORIO', 'SUMG', 'DOT', 'MECO', 'MECD', 'MECX', 'SETR', 'PHAE', 'LRVR', 'MECU', 'SCHI', 'AUD', 'VINO', 'VINN', 'SUSK', 'FHWA', 'SUSU', 'FENA', 'VINT', 'SBT', 'AXES', 'WNDE', 'MMI', 'DGFN', 'TRLR', 'TRLC', 'TRLM', 'LNGR', 'KENT', 'STB', 'NEON', 'STU', 'NEOP', 'RESI', 'PRE', 'PPRO', 'RESD', 'BOUN', 'GENU', 'GENS', 'BUICK', 'GENE', 'LIC', 'LIN', 'MICE', 'ESTA', 'KTKY', 'RV', 'RR', 'RE', 'IUSZ', 'HRI', 'DIRE', 'PIER', 'OTAR', 'KAI', 'LGCH', 'KAW', 'CHTA', 'CHTH', 'COLU', 'COLO', 'COLM', 'JAJU', 'COLE', 'PVOS', 'MADA', 'CHYC', 'MADZ', 'EZLO', 'RALY', 'DAYT', 'FRKT', 'RALL', 'SMRT', 'HVST', 'MERY', 'MERZ', 'HRLY', 'MERQ', 'MERS', 'MNNW', 'MERV', 'UTIL', 'CHYR', 'MNNI', 'MERK', 'MERL', 'MERA', 'MERB', 'MERC', 'MERD', 'PVR', 'PACI', 'WNGB', 'DAEW', 'SEA', 'WCN', 'DAWU', 'CARR', 'CARS', 'FRI', 'FRH', 'FRL', 'DAWE', 'CARI', 'CARO', 'FRT', 'WHIT', 'CARG', 'KAWA', 'INFN', 'PEOP', 'INFI', 'KAWI', 'KAWK', 'THMA', 'MAZD', 'FLTW', 'INFT', 'BRGH', 'GILL', 'TIIA', 'AUBI', 'AUBU', 'ACCU', 'HYFR', 'ACCR', 'GEOR', 'GMC', 'GEOB', 'INTE', 'SUNR', 'INTL', 'KSAK', 'SWND', 'CMDR', 'COPP', 'SUNN', 'SUNL', 'INTR', 'SUNC', 'MCLA', 'CITR', 'SCIC', 'LCNC', 'LCNL', 'SCIM', 'SCIO', 'SCIN', 'WH', 'GUZZ', 'KOMF', 'KOMI', 'RYDE', 'BARO', 'TAUR', 'MIN', 'BUSH', 'ARIS', 'BNZ', 'HAN', 'PASS', 'LXU', 'LXS', 'LNDA', 'SYM', 'LXX', 'LNDZ', 'ZEIM', 'VLKS', 'LNDR', 'SPEC', 'WRRC', 'MIS', 'FIAT', 'LXSS', 'LIND', 'FRLI', 'FRLN', 'FRLR', 'FRLT', 'SMAR', 'TOYB', 'SMAT', 'ADVE', 'TOYO', 'FBAZ', 'TOYT', 'ROYA', 'LNRV', 'OSHK', 'LJR', 'SMAN', 'GULF', 'ULTR', 'WINN', 'WINO', 'WINB', 'WINA', 'WIND', 'WINE', 'HARL', 'PET', 'FISK', 'CHIN', 'JMST', 'HARY', 'CHIM', 'DAVI', 'CHIE', 'FBAL', 'SNLS', 'SNLN', 'SNLI', 'COCH', 'FAIT', 'DUNH', 'IWVT', 'COMP', 'WAB', 'GNSS', 'COMM', 'COMO', 'GROS', 'FLGH', 'COME', 'COMD', 'TELS', 'TELA', 'TYPH', 'TELE', 'FRST', 'PLOM', 'INST', 'AMER', 'SDCC', 'SCFN', 'ITSC', 'AERO', 'WMBG', 'PLYM', 'VOLV', 'PLYT', 'MESC', 'JAQ', 'LDNR', 'SATR', 'SATU', 'ACRU', 'MNMI', 'ACRA', 'SATN', 'SATO', 'PARG', 'TRBZ', 'PARO', 'OVER', 'PARR', 'JAG', 'BOB', 'SFAR', 'LZDZ', 'JOST', 'QUST', 'ACDI', 'M/BN', 'AUCA', 'SAFA', 'AJAX', 'MNCO', 'AUCR', 'MUMN', 'REUC', 'HUNY', 'HWND', 'HUNT', 'REUN', 'ISLA', 'HUND', 'KNTY', 'VOUK', 'UTL', 'FONT', 'GCHE', 'MIAI', 'THER', 'MIAT', 'TRI', 'TRK', 'WBBG', 'MISH', 'DIPL', 'MISV', 'MIST', 'MISS', 'TAOT', 'GNRL', 'RANG', 'GRNV', 'SILV', 'CABA', 'RANH', 'GRND', 'RANR', 'WNES', 'MAJE', 'DAMN', 'ELO', 'NWMR', 'ELD', 'DRAG', 'OLDS', 'LEGN', 'OLDY', 'EXIS', 'LEX', 'LEGR', 'STHW', 'VISP', 'FHRT', 'ELAN', 'UST', 'FHRG', 'VISI', 'AZT', 'VISO', 'JONW', 'BNTL', 'AURA', 'AURO', 'CNP', 'FIRE', 'KNWT', 'KAYK', 'CATE', 'THOR', 'THOM', 'MRTV', 'JYAL', 'KFOR', 'MAXD', 'POPC', 'HYDU', 'HYDY', 'ENCO', 'HYDA', 'SOWI', 'MBZN', 'HYDI', 'PRIU', 'HYDN', 'HUMR', 'AVAL', 'HUMM', 'FEDE', 'JIN', 'INRI', 'FLXI', 'COVR', 'LOOK', 'MENZ', 'PACE', 'RRVR', 'LCHI', 'LDAZ', 'PACK', 'NABI', 'TMEC', 'PLY', 'AVON', 'SHAS', 'AROS', 'HUM', 'APOL', 'HSCR', 'SHAN', 'HUY', 'LOAD', 'LAZY', 'TIUS', 'RNGE', 'RNGR', 'LOAZ', 'MSTC', 'HPMN', 'TRWS', 'BENT', 'VESP', 'BENZ', 'BENE', 'REO', 'BIGS', 'BIGT', 'FRNT', 'SFRI', 'VER', 'CNCA', 'FMT', 'CNCM', 'LEPR', 'FMC', 'DATS', 'STER', 'VAN', 'PROP', 'CAD', 'MRSC', 'COAC', 'FLEX', 'CHYL', 'MREC', 'JAGA', 'GLAV', 'FLET', 'GLAU', 'MREZ', 'JAGY', 'TSMR', 'JAGR', 'CHYS', 'FLEE', 'JAGU', 'MAKE', 'MBTR', 'ARST', 'HYUD', 'HYUA', 'HYUN', 'GRUM', 'FSFA', 'MID', 'LINO', 'LINK', 'SWMD', 'LINE', 'NWFL', 'LINC', 'MIT', 'LONG', 'MCOX', 'MAYF', 'MBZ', 'MAYB', 'LROV', 'AUST', 'SFS', 'SAVN', 'MNCP', 'RAN', 'HDY', 'TITA', 'BML', 'BMS', 'LAYT', 'BMV', 'BMW', 'LNCE', 'AUTO', 'LNCI', 'LNCL', 'EL', 'TIFF', 'ZHEN', 'GORD', 'VOLK', 'AREB', 'MGM', 'MGR', 'NASH', 'IDEA', 'BUTL', 'IFIN', 'MLAR', 'MWWM', 'LNQT', 'MWWN', 'MCCR', 'PION', 'APPO', 'APPL', 'XL', 'CEHM', 'GTO', 'KEN', 'EXPE', 'LUIK', 'TSLA', 'CADY', 'CCHM', 'MRDE', 'TSLR', 'MOLO', 'SRVY', 'CADI', 'RCKW', 'DUCA', 'ARRO', 'ALJD', 'SEAB', 'MNW', 'ALJO', 'BEAZ', 'BEAU', 'BEAV', 'BEAW', 'KMFR', 'VERO', 'TESL', 'YAM', 'ROLS', 'TESI', 'FRON', 'KYMC', 'TESA', 'TESC', 'TEST', 'OTR', 'ROLL', 'ACUR', 'DCMH', 'MNBZ', 'GSX', 'ACUA', 'EGIL', 'VALI', 'STDH', 'EXEC', 'EXEL', 'EXEP', 'BNDE', 'EXER', 'HVES', 'HAWK', 'CAVL', 'FLHT', 'CAVE', 'CAVA', 'MZD', 'MZA', 'MZB', 'TUSC', 'PORH', 'CRMS', 'PORC', 'DUHN', 'PORS', 'PRWL', 'REVC', 'SOUL', 'REVG', 'SOUT', 'GEO', 'GEN', 'GEM', 'COTT', 'COTZ', 'HYTO', 'REDB', 'HYTR', 'LIMO', 'JGR', 'LMBO', 'WBGO', 'VOGU', 'MELO', 'MELA', 'ZEMA', 'REXA', 'REXH', 'OPTI', 'ARMR', 'APAC', 'FRHT', 'IZUS', 'HEM', 'IZUZ', 'PREM', 'PREO', 'TRAC', 'UHA', 'TRAI', 'TRAV', 'PREU', 'PREV', 'BUEL', 'PRES', 'HYD', 'YONG', 'GRHD', 'HYN', 'HYU', 'SING', 'TERA', 'ROCN', 'UHU', 'FIEL', 'TERY', 'ROCK', 'TERR', 'SPOR', 'PINN', 'PINC', 'PINF', 'PINE', 'MIDA', 'MIDS', 'STCK', 'SMYN', 'CLMN', 'CCH', 'CHMN', 'CHME', 'VCON', 'GREA', 'LBRS', 'HINO', 'LUHR', 'MRCY', 'FAMW', 'MRCB', 'MRCD', 'MRCE', 'SION', 'PNCL', 'ALER', 'ALEG', 'KANG', 'JDB', 'BRNA', 'SUKI', 'MCIN', 'CMAK', 'AMC', 'CMAX', 'LDRR', 'LDRV', 'UPS', 'MNAC', 'KENW', 'POCH', 'UTLT', 'HTLD', 'UTLY', 'AAVH', 'ACC', 'ACG', 'RINI', 'ACU', 'OPEN', 'MBEZ', 'WABH', 'LNAR', 'WABA', 'MBEN', 'BUDD', 'EAST', 'WABS', 'POMT', 'OTH', 'GILI', 'SAZU', 'PRTB', 'QUAN', 'GILU', 'MED', 'REIS', 'MEM', 'MECV', 'BOON', 'MER', 'MEZ', 'GOLD', 'SPNR', 'FLN', 'SYZH', 'WELC', 'WELL', 'TE', 'TB', 'AM', 'DELT', 'BAYL', 'CHER', 'CPS', 'DODG', 'WRKH', 'MONA', 'MONO', 'MONT', 'FRTL', 'UNKN', 'DORS', 'APRL', 'GYPS', 'APRI', 'LAN', 'ROBV', 'KEST', 'ROBN', 'ROBM', 'PAC', 'ROBI', 'TOYOT', 'CMPP', 'BERT', 'SEAR', 'SUZU', 'PCEA', 'SUZK', 'SUZI', 'CMPI', 'BOYD', 'JMBR', 'JMBO', 'VANS', 'HAUN', 'VANG', 'VANH', 'CHLE', 'CBO', 'CHLG', 'GRDN', 'TRQU', 'FR', 'CROV', 'CROW', 'CROS', 'POLA', 'TRQN', 'AUDI', 'BRYN', 'TXBR', 'MDZ', 'NATI', 'NATH', 'BONN', 'BOND', 'COZY', 'BROU', 'VNEE', 'FSKR', 'BROM', 'THUN', 'INNI', 'EURO', 'MARL', 'ODEL', 'HPAM', 'TOY', 'MITZ', 'TOP', 'MITU', 'MITS', 'MITI', 'MITE', 'MITC', 'HIR', 'ODYS', 'JDBT', 'SJIN', 'HUIN', 'ABC', 'APCH', 'KTM', 'GTDN', 'JIND', 'PRCH', 'SAMC', 'BUGA', 'IMPR', 'OTHE', 'RAM', 'SMIT', 'RAV', 'IMPA', 'ROAD', 'OTHR', 'MLBL', 'SHEN', 'MURC', 'CRSO', 'CRSL', 'FLDS', 'SHEW', 'BUIC', 'ROSI', 'SPMA', 'ROSE', 'DPLM', 'STAR', 'VGMD', 'FOUR', 'CHSY', 'JAME', 'SICO', 'JAMB', 'ZIEM', 'ZIEN', 'SBRS', 'SKMP', 'JACU', 'ALGR', 'RBIN', 'ESCA', 'CHAN', 'ESCO', 'CHAM', 'CHAR', 'CHAS', 'CHAP', 'BRHM', 'BRHA', 'MUN', 'MASE', 'MASA', 'WORH', 'WORK', 'WORL', 'MAST', 'MASS', 'MASR', 'MASZ', 'FSTA', 'HERI', 'HERC', 'FSTR', 'GBCA', 'GFLC', 'UNK', 'BLUE', 'SCRS', 'BLUB', 'ELDO', 'KL', 'ELDR', 'SEBR', 'DANE', 'EGLE', 'PATR', 'LODC', 'CIMC', 'SANT', 'GOSH', 'SANP', 'CIMO', 'CIML', 'JOUG', 'SAND', 'PTBL', 'GINO', 'WARR', 'HOLR', 'GIND', 'PRRW', 'TRVC', 'IZU', 'PRRO', 'SLF', 'TRVL', 'EL D', 'MCI', 'ELX', 'HYOS', 'HRMB', 'UHAU', 'VELO', 'WANC', 'EAGL', 'RMBL', 'EXP', 'TRJY', 'MUST', 'RORO', 'DLPH', 'SONA', 'SONC', 'THT', 'RROC', 'KIT', 'RROY', 'NIS', 'KIA', 'RROV', 'CRU', 'CRY', 'TSHR', 'MALR', 'PB', 'MALL', 'MALK', 'MALA', 'HNDY', 'SHZN', 'UNIV', 'ALTM', 'ALTI', 'LEIS', 'SPRT', 'RNG', 'STRT', 'STRK', 'SPRN', 'STRI', 'STRN', 'SPRI', 'STRL', 'STRC', 'STRA', 'STRG', 'SPRA', 'MABA', 'THEV', 'THEU', 'THET', 'AZTC', 'OLD', 'ANDE', 'MEZD', 'DAMO', 'AAUD', 'FREI', 'FREH', 'ALFA', 'WNNE', 'FREG', 'FUSO', 'FRET', 'CHRS', 'CHRY', 'KARA', 'MORO', 'CUAL', 'CHRL', 'MORG', 'CHRI', 'TLGA', 'SCAM', 'PONZ', 'PONT', 'PAMI', 'KNIG', 'DTAM', 'PRSH', 'PONI', 'ZHNG', 'TIAG', 'PTCR', 'PONC', 'HYND', 'HYNI', 'GAR', 'YANB', 'MBW', 'TZOL', 'MTZ', 'CUST', 'MTS', 'HTON', 'BRIN', 'CUSH', 'PEUG', 'BRID', 'SUVS', 'MCDS', 'HUYN', 'HUYD', 'TIT', 'BM', 'LADR', 'BW', 'BORE', 'RNOV', 'RLON', 'ISUS', 'HUES', 'TAHO', 'ISUZ', 'NAVI', 'FTLN', 'PRAT', 'SCOO', 'CINC', 'TIOG', 'TIOC', 'GNIN', 'ARGS', 'ARGO', 'KING', 'ROL', 'FRTH', 'ROY', 'KINR', 'ROV', 'CRUI', 'CRUM', 'KYST', 'CRUZ', 'JBRE', 'CRUS', 'BERI', 'SPCN', 'SPCH', 'MDLN', 'GMCC', 'VOL', 'SPCC', 'UN', 'PWNA', 'VNER', 'UD', 'MACA', 'STOU', 'STOR', 'STOO', 'ALAX', 'RDKM', 'VACE', 'SKYL', 'ARMO', 'SIER', 'LXUS', 'GRAM', 'GRAN', 'MINI', 'GHSL', 'MINN', 'MINC', 'AFLA', 'KWRD', 'RAWA', 'FER', 'ROGU', 'MINT', 'PBLT', 'BRAV', 'NOMA', 'TATA', 'NEWN', 'NEWM', 'DALN', 'NEWF', 'MTSI', 'MTSB', 'NEWS', 'GRSH', 'PETE', 'DAE', 'MOHO', 'LOTS', 'LOTU', 'DAT', 'THON', 'PETR', 'MOSS', 'SGHK', 'JYNO', 'MACK', 'DCHM', 'BLSH', 'LDVR', 'PTRB'])\n"
     ]
    }
   ],
   "source": [
    "# Look for any weird makes\n",
    "makes = unique_makes(filename)\n",
    "print(makes)"
   ]
  },
  {
   "cell_type": "code",
   "execution_count": 26,
   "metadata": {},
   "outputs": [
    {
     "name": "stdout",
     "output_type": "stream",
     "text": [
      "4368470\n"
     ]
    }
   ],
   "source": [
    "# Count lines where make is null\n",
    "nulls = count_null_makes(filename)\n",
    "print(nulls)"
   ]
  },
  {
   "cell_type": "code",
   "execution_count": 29,
   "metadata": {},
   "outputs": [
    {
     "name": "stdout",
     "output_type": "stream",
     "text": [
      "2183568\n"
     ]
    }
   ],
   "source": [
    "# Count lines where make is null and in 2nd half of file\n",
    "nulls_second_half = count_null_second_half(filename, 4363007)\n",
    "print(nulls_second_half)"
   ]
  },
  {
   "cell_type": "code",
   "execution_count": 30,
   "metadata": {},
   "outputs": [
    {
     "data": {
      "text/plain": [
       "2181503"
      ]
     },
     "execution_count": 30,
     "metadata": {},
     "output_type": "execute_result"
    }
   ],
   "source": [
    "8726015/2\n",
    "8726015/4"
   ]
  },
  {
   "cell_type": "code",
   "execution_count": null,
   "metadata": {},
   "outputs": [],
   "source": []
  }
 ],
 "metadata": {
  "kernelspec": {
   "display_name": "Python 2",
   "language": "python",
   "name": "python2"
  },
  "language_info": {
   "codemirror_mode": {
    "name": "ipython",
    "version": 2
   },
   "file_extension": ".py",
   "mimetype": "text/x-python",
   "name": "python",
   "nbconvert_exporter": "python",
   "pygments_lexer": "ipython2",
   "version": "2.7.16"
  }
 },
 "nbformat": 4,
 "nbformat_minor": 2
}
