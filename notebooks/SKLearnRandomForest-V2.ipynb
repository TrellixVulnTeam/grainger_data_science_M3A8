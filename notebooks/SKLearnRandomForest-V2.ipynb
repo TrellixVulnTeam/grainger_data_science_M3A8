{
 "cells": [
  {
   "cell_type": "code",
   "execution_count": 1,
   "metadata": {},
   "outputs": [],
   "source": [
    "import seaborn as sn\n",
    "import matplotlib\n",
    "import matplotlib.pyplot as plt\n",
    "import pandas as pd\n",
    "import numpy as np\n",
    "import csv\n",
    "from pprint import pprint\n",
    "import random\n",
    "from sklearn import preprocessing\n",
    "from __future__ import division\n",
    "import pickle\n",
    "from pyproj import Proj, transform\n",
    "from math import sqrt \n",
    "from datetime import datetime\n",
    "\n",
    "# Load data from \"uncorrupted\" part of dataset\n",
    "filename = '../data/parking_citations_uncorrupted.csv'\n",
    "random.seed(42)"
   ]
  },
  {
   "cell_type": "code",
   "execution_count": 2,
   "metadata": {},
   "outputs": [],
   "source": [
    "# Get headers and data types\n",
    "columns = []\n",
    "with open(filename) as f:\n",
    "    reader = csv.reader(f)\n",
    "    columns = reader.next()\n",
    "    \n",
    "names = [col.replace(\" \",\"_\") for col in columns]\n",
    "\n",
    "dtypes = {\n",
    "    'Ticket_number': 'unicode' ,\n",
    "    'Issue_Date': 'unicode' ,\n",
    "    'Issue_Time':'unicode'  ,\n",
    "    'Meter_Id': 'unicode',\n",
    "    'Marked_Time': 'unicode' ,\n",
    "    'RP_State_Plate': 'unicode',\n",
    "    'Plate_Expiry_Date': 'unicode' ,\n",
    "    'VIN': 'unicode' ,\n",
    "    'Make': 'unicode' ,\n",
    "    'Body Style': 'unicode' ,\n",
    "    'Color': 'unicode' ,\n",
    "    'Location': 'unicode' ,\n",
    "    'Route': 'unicode' ,\n",
    "    'Agency': 'unicode' ,\n",
    "    'Violation_Code': 'unicode' ,\n",
    "    'Violation_Description': 'unicode' ,\n",
    "    'Fine_amount': np.float64 ,\n",
    "    'Latitude': np.float64 ,\n",
    "    'Longitude': np.float64 ,\n",
    "}"
   ]
  },
  {
   "cell_type": "code",
   "execution_count": 16,
   "metadata": {},
   "outputs": [],
   "source": [
    "# Load data from file\n",
    "citations = pd.read_csv(\n",
    "    filename ,\n",
    "    header = 0 ,\n",
    "    names = names ,\n",
    "    dtype = dtypes ,\n",
    ")"
   ]
  },
  {
   "cell_type": "code",
   "execution_count": 17,
   "metadata": {},
   "outputs": [],
   "source": [
    "# Optional: take a random sample for exploration purposes\n",
    "citations = citations.sample(frac = 0.1, random_state=42)"
   ]
  },
  {
   "cell_type": "code",
   "execution_count": 18,
   "metadata": {},
   "outputs": [],
   "source": [
    "# Label dataset by top 25 makes\n",
    "top_25_makes = citations.groupby(['Make']).size().sort_values(ascending=False)\n",
    "make_names = set(top_25_makes.index[:25])\n",
    "\n",
    "citations['top_25_makes'] = citations['Make'].apply(lambda x: (x in make_names)*1)\n",
    "citations['top_25_makes'] = citations['top_25_makes'].astype('category')"
   ]
  },
  {
   "cell_type": "code",
   "execution_count": 20,
   "metadata": {},
   "outputs": [
    {
     "name": "stdout",
     "output_type": "stream",
     "text": [
      "RP_State_Plate\n",
      "Body_Style\n",
      "Color\n",
      "Route\n",
      "Agency\n",
      "Violation_code\n",
      "Violation_Description\n",
      "Location\n"
     ]
    }
   ],
   "source": [
    "# Date formatting and coversion to days since epoch\n",
    "citations['Issue_Date'] = pd.to_datetime(citations['Issue_Date'])\n",
    "\n",
    "citations['Plate_Expiry_Date'] = citations['Plate_Expiry_Date'].fillna('')\n",
    "citations['Plate_Expiry_Date'] = pd.to_datetime(citations['Plate_Expiry_Date'].str[:-2], format='%Y%M', errors='coerce')\n",
    "\n",
    "citations['Issue_Date'] = (citations['Issue_Date'] - datetime(2000,01,01)).dt.days\n",
    "citations['Plate_Expiry_Date'] = (citations['Plate_Expiry_Date'].fillna(datetime(2000,01,01)) - datetime(2000,01,01)).dt.days\n",
    "\n",
    "#min_date = citations['Issue_Date'].min()\n",
    "\n",
    "#citations['Issue_Date'] = citations['Issue_Date'] - min_date\n",
    "#citations['Plate_Expiry_Date'] = citations['Plate_Expiry_Date'] - min_date\n",
    "\n",
    "# Drop vars with too many NA's\n",
    "drop_vars = [\n",
    "    'VIN' ,\n",
    "    'Marked_Time' ,\n",
    "    'Meter_Id'\n",
    "]\n",
    "try:\n",
    "    citations.drop(drop_vars , axis=1, inplace=True)\n",
    "except KeyError:\n",
    "    print(\"Already dropped columns.\")\n",
    "\n",
    "# Fill in nulls for continuous variables\n",
    "citations['Issue_time'] = citations['Issue_time'].fillna(citations['Issue_time'].median())\n",
    "citations['Fine_amount'] = citations['Fine_amount'].fillna(citations['Fine_amount'].median())\n",
    "#citations['Plate_Expiry_Date'] = citations['Plate_Expiry_Date'].fillna(citations['Plate_Expiry_Date'].mode())\n",
    "\n",
    "# Fill in nulls for categorical variables\n",
    "categorical_vars = [\n",
    "    'RP_State_Plate' ,\n",
    "    'Body_Style' ,\n",
    "    'Color' ,\n",
    "    'Route' ,\n",
    "    'Agency' ,\n",
    "    'Violation_code' ,\n",
    "    'Violation_Description' ,\n",
    "    'Location'\n",
    "]\n",
    "\n",
    "for v in categorical_vars:\n",
    "    print(v)\n",
    "    citations[v] = citations[v].astype('category')\n",
    "    citations[v] = citations[v].fillna(citations[v].mode().values[0])"
   ]
  },
  {
   "cell_type": "code",
   "execution_count": 131,
   "metadata": {},
   "outputs": [],
   "source": [
    "# Convert latitude/longitude into distance from center of LA\n",
    "# Using US Feet Projection, should be Cartesian formula\n",
    "# http://www.earthpoint.us/StatePlane.aspx, (34.0522,-118.2437)\n",
    "la_lat = 6487847\n",
    "la_lon = 1841468\n",
    "\n",
    "citations['distance_from_la'] = ((citations['Latitude'] - la_lat)**2 + (citations['Longitude'] - la_lon)**2).apply(lambda x: sqrt(x))/5280"
   ]
  },
  {
   "cell_type": "code",
   "execution_count": 6,
   "metadata": {
    "collapsed": true
   },
   "outputs": [
    {
     "data": {
      "text/html": [
       "<div>\n",
       "<style scoped>\n",
       "    .dataframe tbody tr th:only-of-type {\n",
       "        vertical-align: middle;\n",
       "    }\n",
       "\n",
       "    .dataframe tbody tr th {\n",
       "        vertical-align: top;\n",
       "    }\n",
       "\n",
       "    .dataframe thead th {\n",
       "        text-align: right;\n",
       "    }\n",
       "</style>\n",
       "<table border=\"1\" class=\"dataframe\">\n",
       "  <thead>\n",
       "    <tr style=\"text-align: right;\">\n",
       "      <th></th>\n",
       "      <th>Ticket_number</th>\n",
       "      <th>Issue_Date</th>\n",
       "      <th>Issue_time</th>\n",
       "      <th>Meter_Id</th>\n",
       "      <th>Marked_Time</th>\n",
       "      <th>RP_State_Plate</th>\n",
       "      <th>Plate_Expiry_Date</th>\n",
       "      <th>VIN</th>\n",
       "      <th>Make</th>\n",
       "      <th>Body_Style</th>\n",
       "      <th>Color</th>\n",
       "      <th>Location</th>\n",
       "      <th>Route</th>\n",
       "      <th>Agency</th>\n",
       "      <th>Violation_code</th>\n",
       "      <th>Violation_Description</th>\n",
       "      <th>Fine_amount</th>\n",
       "      <th>Latitude</th>\n",
       "      <th>Longitude</th>\n",
       "      <th>top_25_makes</th>\n",
       "    </tr>\n",
       "  </thead>\n",
       "  <tbody>\n",
       "    <tr>\n",
       "      <th>count</th>\n",
       "      <td>435754</td>\n",
       "      <td>435754</td>\n",
       "      <td>435648.000000</td>\n",
       "      <td>113890</td>\n",
       "      <td>14429</td>\n",
       "      <td>435708</td>\n",
       "      <td>396074</td>\n",
       "      <td>834</td>\n",
       "      <td>435754</td>\n",
       "      <td>435385</td>\n",
       "      <td>435609</td>\n",
       "      <td>435737</td>\n",
       "      <td>432587</td>\n",
       "      <td>435754</td>\n",
       "      <td>435754</td>\n",
       "      <td>435725</td>\n",
       "      <td>435438.000000</td>\n",
       "      <td>4.357540e+05</td>\n",
       "      <td>4.357540e+05</td>\n",
       "      <td>435754.0</td>\n",
       "    </tr>\n",
       "    <tr>\n",
       "      <th>unique</th>\n",
       "      <td>435754</td>\n",
       "      <td>1545</td>\n",
       "      <td>NaN</td>\n",
       "      <td>25134</td>\n",
       "      <td>720</td>\n",
       "      <td>73</td>\n",
       "      <td>402</td>\n",
       "      <td>650</td>\n",
       "      <td>424</td>\n",
       "      <td>56</td>\n",
       "      <td>54</td>\n",
       "      <td>229437</td>\n",
       "      <td>3272</td>\n",
       "      <td>22</td>\n",
       "      <td>199</td>\n",
       "      <td>274</td>\n",
       "      <td>NaN</td>\n",
       "      <td>NaN</td>\n",
       "      <td>NaN</td>\n",
       "      <td>2.0</td>\n",
       "    </tr>\n",
       "    <tr>\n",
       "      <th>top</th>\n",
       "      <td>4319282800</td>\n",
       "      <td>2016-01-19T00:00:00</td>\n",
       "      <td>NaN</td>\n",
       "      <td>37</td>\n",
       "      <td>800.0</td>\n",
       "      <td>CA</td>\n",
       "      <td>201606.0</td>\n",
       "      <td>NOT VISIBLE</td>\n",
       "      <td>TOYT</td>\n",
       "      <td>PA</td>\n",
       "      <td>BK</td>\n",
       "      <td>1301 ELECTRIC AVE</td>\n",
       "      <td>00600</td>\n",
       "      <td>54.0</td>\n",
       "      <td>80.69BS</td>\n",
       "      <td>NO PARK/STREET CLEAN</td>\n",
       "      <td>NaN</td>\n",
       "      <td>NaN</td>\n",
       "      <td>NaN</td>\n",
       "      <td>1.0</td>\n",
       "    </tr>\n",
       "    <tr>\n",
       "      <th>freq</th>\n",
       "      <td>1</td>\n",
       "      <td>500</td>\n",
       "      <td>NaN</td>\n",
       "      <td>2430</td>\n",
       "      <td>709</td>\n",
       "      <td>406030</td>\n",
       "      <td>8544</td>\n",
       "      <td>89</td>\n",
       "      <td>72371</td>\n",
       "      <td>383591</td>\n",
       "      <td>94329</td>\n",
       "      <td>498</td>\n",
       "      <td>25522</td>\n",
       "      <td>107187</td>\n",
       "      <td>121920</td>\n",
       "      <td>126241</td>\n",
       "      <td>NaN</td>\n",
       "      <td>NaN</td>\n",
       "      <td>NaN</td>\n",
       "      <td>398593.0</td>\n",
       "    </tr>\n",
       "    <tr>\n",
       "      <th>mean</th>\n",
       "      <td>NaN</td>\n",
       "      <td>NaN</td>\n",
       "      <td>1205.017321</td>\n",
       "      <td>NaN</td>\n",
       "      <td>NaN</td>\n",
       "      <td>NaN</td>\n",
       "      <td>NaN</td>\n",
       "      <td>NaN</td>\n",
       "      <td>NaN</td>\n",
       "      <td>NaN</td>\n",
       "      <td>NaN</td>\n",
       "      <td>NaN</td>\n",
       "      <td>NaN</td>\n",
       "      <td>NaN</td>\n",
       "      <td>NaN</td>\n",
       "      <td>NaN</td>\n",
       "      <td>70.036993</td>\n",
       "      <td>5.498289e+06</td>\n",
       "      <td>1.585088e+06</td>\n",
       "      <td>NaN</td>\n",
       "    </tr>\n",
       "    <tr>\n",
       "      <th>std</th>\n",
       "      <td>NaN</td>\n",
       "      <td>NaN</td>\n",
       "      <td>472.289301</td>\n",
       "      <td>NaN</td>\n",
       "      <td>NaN</td>\n",
       "      <td>NaN</td>\n",
       "      <td>NaN</td>\n",
       "      <td>NaN</td>\n",
       "      <td>NaN</td>\n",
       "      <td>NaN</td>\n",
       "      <td>NaN</td>\n",
       "      <td>NaN</td>\n",
       "      <td>NaN</td>\n",
       "      <td>NaN</td>\n",
       "      <td>NaN</td>\n",
       "      <td>NaN</td>\n",
       "      <td>31.898267</td>\n",
       "      <td>2.273469e+06</td>\n",
       "      <td>6.259822e+05</td>\n",
       "      <td>NaN</td>\n",
       "    </tr>\n",
       "    <tr>\n",
       "      <th>min</th>\n",
       "      <td>NaN</td>\n",
       "      <td>NaN</td>\n",
       "      <td>0.000000</td>\n",
       "      <td>NaN</td>\n",
       "      <td>NaN</td>\n",
       "      <td>NaN</td>\n",
       "      <td>NaN</td>\n",
       "      <td>NaN</td>\n",
       "      <td>NaN</td>\n",
       "      <td>NaN</td>\n",
       "      <td>NaN</td>\n",
       "      <td>NaN</td>\n",
       "      <td>NaN</td>\n",
       "      <td>NaN</td>\n",
       "      <td>NaN</td>\n",
       "      <td>NaN</td>\n",
       "      <td>10.000000</td>\n",
       "      <td>9.999900e+04</td>\n",
       "      <td>9.999900e+04</td>\n",
       "      <td>NaN</td>\n",
       "    </tr>\n",
       "    <tr>\n",
       "      <th>25%</th>\n",
       "      <td>NaN</td>\n",
       "      <td>NaN</td>\n",
       "      <td>913.000000</td>\n",
       "      <td>NaN</td>\n",
       "      <td>NaN</td>\n",
       "      <td>NaN</td>\n",
       "      <td>NaN</td>\n",
       "      <td>NaN</td>\n",
       "      <td>NaN</td>\n",
       "      <td>NaN</td>\n",
       "      <td>NaN</td>\n",
       "      <td>NaN</td>\n",
       "      <td>NaN</td>\n",
       "      <td>NaN</td>\n",
       "      <td>NaN</td>\n",
       "      <td>NaN</td>\n",
       "      <td>63.000000</td>\n",
       "      <td>6.421493e+06</td>\n",
       "      <td>1.821481e+06</td>\n",
       "      <td>NaN</td>\n",
       "    </tr>\n",
       "    <tr>\n",
       "      <th>50%</th>\n",
       "      <td>NaN</td>\n",
       "      <td>NaN</td>\n",
       "      <td>1156.000000</td>\n",
       "      <td>NaN</td>\n",
       "      <td>NaN</td>\n",
       "      <td>NaN</td>\n",
       "      <td>NaN</td>\n",
       "      <td>NaN</td>\n",
       "      <td>NaN</td>\n",
       "      <td>NaN</td>\n",
       "      <td>NaN</td>\n",
       "      <td>NaN</td>\n",
       "      <td>NaN</td>\n",
       "      <td>NaN</td>\n",
       "      <td>NaN</td>\n",
       "      <td>NaN</td>\n",
       "      <td>68.000000</td>\n",
       "      <td>6.451529e+06</td>\n",
       "      <td>1.841958e+06</td>\n",
       "      <td>NaN</td>\n",
       "    </tr>\n",
       "    <tr>\n",
       "      <th>75%</th>\n",
       "      <td>NaN</td>\n",
       "      <td>NaN</td>\n",
       "      <td>1512.000000</td>\n",
       "      <td>NaN</td>\n",
       "      <td>NaN</td>\n",
       "      <td>NaN</td>\n",
       "      <td>NaN</td>\n",
       "      <td>NaN</td>\n",
       "      <td>NaN</td>\n",
       "      <td>NaN</td>\n",
       "      <td>NaN</td>\n",
       "      <td>NaN</td>\n",
       "      <td>NaN</td>\n",
       "      <td>NaN</td>\n",
       "      <td>NaN</td>\n",
       "      <td>NaN</td>\n",
       "      <td>73.000000</td>\n",
       "      <td>6.475013e+06</td>\n",
       "      <td>1.858207e+06</td>\n",
       "      <td>NaN</td>\n",
       "    </tr>\n",
       "    <tr>\n",
       "      <th>max</th>\n",
       "      <td>NaN</td>\n",
       "      <td>NaN</td>\n",
       "      <td>2359.000000</td>\n",
       "      <td>NaN</td>\n",
       "      <td>NaN</td>\n",
       "      <td>NaN</td>\n",
       "      <td>NaN</td>\n",
       "      <td>NaN</td>\n",
       "      <td>NaN</td>\n",
       "      <td>NaN</td>\n",
       "      <td>NaN</td>\n",
       "      <td>NaN</td>\n",
       "      <td>NaN</td>\n",
       "      <td>NaN</td>\n",
       "      <td>NaN</td>\n",
       "      <td>NaN</td>\n",
       "      <td>363.000000</td>\n",
       "      <td>6.650787e+06</td>\n",
       "      <td>2.076190e+06</td>\n",
       "      <td>NaN</td>\n",
       "    </tr>\n",
       "  </tbody>\n",
       "</table>\n",
       "</div>"
      ],
      "text/plain": [
       "       Ticket_number           Issue_Date     Issue_time Meter_Id Marked_Time  \\\n",
       "count         435754               435754  435648.000000   113890       14429   \n",
       "unique        435754                 1545            NaN    25134         720   \n",
       "top       4319282800  2016-01-19T00:00:00            NaN       37       800.0   \n",
       "freq               1                  500            NaN     2430         709   \n",
       "mean             NaN                  NaN    1205.017321      NaN         NaN   \n",
       "std              NaN                  NaN     472.289301      NaN         NaN   \n",
       "min              NaN                  NaN       0.000000      NaN         NaN   \n",
       "25%              NaN                  NaN     913.000000      NaN         NaN   \n",
       "50%              NaN                  NaN    1156.000000      NaN         NaN   \n",
       "75%              NaN                  NaN    1512.000000      NaN         NaN   \n",
       "max              NaN                  NaN    2359.000000      NaN         NaN   \n",
       "\n",
       "       RP_State_Plate Plate_Expiry_Date          VIN    Make Body_Style  \\\n",
       "count          435708            396074          834  435754     435385   \n",
       "unique             73               402          650     424         56   \n",
       "top                CA          201606.0  NOT VISIBLE    TOYT         PA   \n",
       "freq           406030              8544           89   72371     383591   \n",
       "mean              NaN               NaN          NaN     NaN        NaN   \n",
       "std               NaN               NaN          NaN     NaN        NaN   \n",
       "min               NaN               NaN          NaN     NaN        NaN   \n",
       "25%               NaN               NaN          NaN     NaN        NaN   \n",
       "50%               NaN               NaN          NaN     NaN        NaN   \n",
       "75%               NaN               NaN          NaN     NaN        NaN   \n",
       "max               NaN               NaN          NaN     NaN        NaN   \n",
       "\n",
       "         Color           Location   Route  Agency Violation_code  \\\n",
       "count   435609             435737  432587  435754         435754   \n",
       "unique      54             229437    3272      22            199   \n",
       "top         BK  1301 ELECTRIC AVE   00600    54.0        80.69BS   \n",
       "freq     94329                498   25522  107187         121920   \n",
       "mean       NaN                NaN     NaN     NaN            NaN   \n",
       "std        NaN                NaN     NaN     NaN            NaN   \n",
       "min        NaN                NaN     NaN     NaN            NaN   \n",
       "25%        NaN                NaN     NaN     NaN            NaN   \n",
       "50%        NaN                NaN     NaN     NaN            NaN   \n",
       "75%        NaN                NaN     NaN     NaN            NaN   \n",
       "max        NaN                NaN     NaN     NaN            NaN   \n",
       "\n",
       "       Violation_Description    Fine_amount      Latitude     Longitude  \\\n",
       "count                 435725  435438.000000  4.357540e+05  4.357540e+05   \n",
       "unique                   274            NaN           NaN           NaN   \n",
       "top     NO PARK/STREET CLEAN            NaN           NaN           NaN   \n",
       "freq                  126241            NaN           NaN           NaN   \n",
       "mean                     NaN      70.036993  5.498289e+06  1.585088e+06   \n",
       "std                      NaN      31.898267  2.273469e+06  6.259822e+05   \n",
       "min                      NaN      10.000000  9.999900e+04  9.999900e+04   \n",
       "25%                      NaN      63.000000  6.421493e+06  1.821481e+06   \n",
       "50%                      NaN      68.000000  6.451529e+06  1.841958e+06   \n",
       "75%                      NaN      73.000000  6.475013e+06  1.858207e+06   \n",
       "max                      NaN     363.000000  6.650787e+06  2.076190e+06   \n",
       "\n",
       "        top_25_makes  \n",
       "count       435754.0  \n",
       "unique           2.0  \n",
       "top              1.0  \n",
       "freq        398593.0  \n",
       "mean             NaN  \n",
       "std              NaN  \n",
       "min              NaN  \n",
       "25%              NaN  \n",
       "50%              NaN  \n",
       "75%              NaN  \n",
       "max              NaN  "
      ]
     },
     "execution_count": 6,
     "metadata": {},
     "output_type": "execute_result"
    }
   ],
   "source": [
    "citations.describe(include='all')"
   ]
  },
  {
   "cell_type": "code",
   "execution_count": 8,
   "metadata": {},
   "outputs": [
    {
     "name": "stdout",
     "output_type": "stream",
     "text": [
      "RP_State_Plate\n",
      "73\n",
      "Body_Style\n",
      "56\n",
      "Color\n",
      "54\n",
      "Route\n",
      "3272\n",
      "Agency\n",
      "22\n",
      "Violation_code\n",
      "199\n",
      "Violation_Description\n",
      "274\n",
      "Location\n",
      "229437\n"
     ]
    }
   ],
   "source": [
    "# Check cardinality of categorical variables - all fairly high cardinality\n",
    "for v in categorical_vars:\n",
    "    print(v)\n",
    "    print(len(citations[v].unique()))"
   ]
  },
  {
   "cell_type": "code",
   "execution_count": 16,
   "metadata": {},
   "outputs": [
    {
     "name": "stdout",
     "output_type": "stream",
     "text": [
      "RP_State_Plate\n"
     ]
    },
    {
     "data": {
      "image/png": "[encoded data removed]",
      "text/plain": [
       "<Figure size 432x288 with 1 Axes>"
      ]
     },
     "metadata": {
      "needs_background": "light"
     },
     "output_type": "display_data"
    },
    {
     "name": "stdout",
     "output_type": "stream",
     "text": [
      "Body_Style\n"
     ]
    },
    {
     "data": {
      "image/png": "[encoded data removed]",
      "text/plain": [
       "<Figure size 432x288 with 1 Axes>"
      ]
     },
     "metadata": {
      "needs_background": "light"
     },
     "output_type": "display_data"
    },
    {
     "name": "stdout",
     "output_type": "stream",
     "text": [
      "Color\n"
     ]
    },
    {
     "data": {
      "image/png": "[encoded data removed]",
      "text/plain": [
       "<Figure size 432x288 with 1 Axes>"
      ]
     },
     "metadata": {
      "needs_background": "light"
     },
     "output_type": "display_data"
    },
    {
     "name": "stdout",
     "output_type": "stream",
     "text": [
      "Route\n"
     ]
    },
    {
     "data": {
      "image/png": "[encoded data removed]",
      "text/plain": [
       "<Figure size 432x288 with 1 Axes>"
      ]
     },
     "metadata": {
      "needs_background": "light"
     },
     "output_type": "display_data"
    },
    {
     "name": "stdout",
     "output_type": "stream",
     "text": [
      "Agency\n"
     ]
    },
    {
     "data": {
      "image/png": "[encoded data removed]",
      "text/plain": [
       "<Figure size 432x288 with 1 Axes>"
      ]
     },
     "metadata": {
      "needs_background": "light"
     },
     "output_type": "display_data"
    },
    {
     "name": "stdout",
     "output_type": "stream",
     "text": [
      "Violation_code\n"
     ]
    },
    {
     "data": {
      "image/png": "[encoded data removed]",
      "text/plain": [
       "<Figure size 432x288 with 1 Axes>"
      ]
     },
     "metadata": {
      "needs_background": "light"
     },
     "output_type": "display_data"
    },
    {
     "name": "stdout",
     "output_type": "stream",
     "text": [
      "Violation_Description\n"
     ]
    },
    {
     "data": {
      "image/png": "[encoded data removed]",
      "text/plain": [
       "<Figure size 432x288 with 1 Axes>"
      ]
     },
     "metadata": {
      "needs_background": "light"
     },
     "output_type": "display_data"
    },
    {
     "name": "stdout",
     "output_type": "stream",
     "text": [
      "Location\n"
     ]
    },
    {
     "data": {
      "image/png": "[encoded data removed]",
      "text/plain": [
       "<Figure size 432x288 with 1 Axes>"
      ]
     },
     "metadata": {
      "needs_background": "light"
     },
     "output_type": "display_data"
    }
   ],
   "source": [
    "%matplotlib inline\n",
    "\n",
    "# Check distribution of categorical vars\n",
    "for v in categorical_vars:\n",
    "    print(v)\n",
    "    h = citations[v].value_counts()[:20].plot(kind='bar')\n",
    "    plt.show(h)"
   ]
  },
  {
   "cell_type": "code",
   "execution_count": 103,
   "metadata": {
    "collapsed": true
   },
   "outputs": [
    {
     "name": "stderr",
     "output_type": "stream",
     "text": [
      "/home/ec2-user/grainger_data_science/env/lib/python2.7/site-packages/pandas/core/ops.py:1649: FutureWarning: elementwise comparison failed; returning scalar instead, but in the future will perform elementwise comparison\n",
      "  result = method(y)\n"
     ]
    },
    {
     "name": "stdout",
     "output_type": "stream",
     "text": [
      "Agency\n",
      "Color\n",
      "Route\n",
      "Violation_code\n",
      "Violation_Description\n",
      "Location\n",
      "Body_Style\n",
      "RP_State_Plate\n"
     ]
    }
   ],
   "source": [
    "# Label-encode all high cardinality categoricals - worked better than one-hot\n",
    "categorical_vars = [\n",
    "    'Agency' , \n",
    "    'Color' ,\n",
    "    'Route' ,\n",
    "    'Violation_code' ,\n",
    "    'Violation_Description' ,\n",
    "    'Location' ,\n",
    "    'Body_Style' ,\n",
    "    'RP_State_Plate'\n",
    "]\n",
    "\n",
    "for v in categorical_vars:\n",
    "    print(v)\n",
    "    le = preprocessing.LabelEncoder()\n",
    "    le.fit(citations[v])\n",
    "    citations[v] = le.transform(citations[v])\n"
   ]
  },
  {
   "cell_type": "code",
   "execution_count": 179,
   "metadata": {},
   "outputs": [],
   "source": [
    "feature_cols = [\n",
    "    'Issue_Date' ,\n",
    "    'Issue_time' ,\n",
    "    'Plate_Expiry_Date' ,\n",
    "    'Color' ,\n",
    "    'Location' ,\n",
    "    'Route' ,\n",
    "    'Agency' ,\n",
    "    'Violation_code' ,\n",
    "    'Violation_Description' ,\n",
    "    'Fine_amount' ,\n",
    "    'Body_Style' ,\n",
    "    'RP_State_Plate' ,\n",
    "    'distance_from_la'\n",
    "] \n",
    "\n",
    "target_cols = [\n",
    "    'top_25_makes' ,\n",
    "]"
   ]
  },
  {
   "cell_type": "code",
   "execution_count": 172,
   "metadata": {},
   "outputs": [],
   "source": [
    "labels = np.array(citations[target_cols])\n",
    "features = np.array(citations[feature_cols])\n"
   ]
  },
  {
   "cell_type": "code",
   "execution_count": 177,
   "metadata": {},
   "outputs": [
    {
     "name": "stderr",
     "output_type": "stream",
     "text": [
      "/home/ec2-user/grainger_data_science/env/lib/python2.7/site-packages/ipykernel_launcher.py:13: DataConversionWarning: A column-vector y was passed when a 1d array was expected. Please change the shape of y to (n_samples,), for example using ravel().\n",
      "  del sys.path[0]\n"
     ]
    },
    {
     "data": {
      "text/plain": [
       "RandomForestClassifier(bootstrap=True, class_weight=None, criterion='gini',\n",
       "            max_depth=20, max_features='auto', max_leaf_nodes=None,\n",
       "            min_impurity_decrease=0.0, min_impurity_split=None,\n",
       "            min_samples_leaf=1, min_samples_split=2,\n",
       "            min_weight_fraction_leaf=0.0, n_estimators=500, n_jobs=None,\n",
       "            oob_score=False, random_state=42, verbose=0, warm_start=False)"
      ]
     },
     "execution_count": 177,
     "metadata": {},
     "output_type": "execute_result"
    }
   ],
   "source": [
    "from sklearn.model_selection import train_test_split\n",
    "from sklearn.ensemble import RandomForestClassifier\n",
    "\n",
    "# Train-test split\n",
    "train_features, test_features, train_labels, test_labels = train_test_split(features, labels, test_size = 0.25, random_state = 42)\n",
    "\n",
    "# Instantiate model with 100 decision trees\n",
    "rf = RandomForestClassifier(\n",
    "    n_estimators = 100, \n",
    "    random_state = 42,\n",
    "    max_depth = 20 ,\n",
    ")\n",
    "# Train the model on training data\n",
    "rf.fit(train_features, train_labels)"
   ]
  },
  {
   "cell_type": "code",
   "execution_count": 178,
   "metadata": {},
   "outputs": [
    {
     "data": {
      "text/plain": [
       "0.9213963777894051"
      ]
     },
     "execution_count": 178,
     "metadata": {},
     "output_type": "execute_result"
    }
   ],
   "source": [
    "# Summarize model scores\n",
    "rf.score(test_features, test_labels)"
   ]
  },
  {
   "cell_type": "code",
   "execution_count": 102,
   "metadata": {},
   "outputs": [
    {
     "name": "stdout",
     "output_type": "stream",
     "text": [
      "1    0.91472\n",
      "0    0.08528\n",
      "Name: top_25_makes, dtype: float64\n"
     ]
    }
   ],
   "source": [
    "# Check skew of labels - compare to accuracy when guessing 1\n",
    "split = (citations['top_25_makes'].value_counts()) / citations.shape[0]\n",
    "print(split)"
   ]
  },
  {
   "cell_type": "code",
   "execution_count": 175,
   "metadata": {},
   "outputs": [
    {
     "data": {
      "image/png": "[encoded data removed]",
      "text/plain": [
       "<Figure size 432x288 with 1 Axes>"
      ]
     },
     "metadata": {
      "needs_background": "light"
     },
     "output_type": "display_data"
    }
   ],
   "source": [
    "# Visualize feature importance\n",
    "feature_importance = pd.DataFrame(\n",
    "    rf.feature_importances_ ,\n",
    "    index = feature_cols ,\n",
    "    columns = ['importance'] ,\n",
    ").sort_values('importance',ascending=False)\n",
    "\n",
    "\n",
    "y_pos = np.arange(len(feature_importance.index))\n",
    "\n",
    "fig, ax = plt.subplots()\n",
    "\n",
    "ax.barh(y_pos, feature_importance['importance'], align='center')\n",
    "ax.set_yticks(y_pos)\n",
    "ax.set_yticklabels(feature_importance.index)\n",
    "ax.invert_yaxis()\n",
    "\n",
    "\n",
    "plt.show()"
   ]
  },
  {
   "cell_type": "code",
   "execution_count": 176,
   "metadata": {},
   "outputs": [
    {
     "data": {
      "text/plain": [
       "<matplotlib.axes._subplots.AxesSubplot at 0x7fae829271d0>"
      ]
     },
     "execution_count": 176,
     "metadata": {},
     "output_type": "execute_result"
    },
    {
     "data": {
      "image/png": "[encoded data removed]",
      "text/plain": [
       "<Figure size 720x504 with 2 Axes>"
      ]
     },
     "metadata": {
      "needs_background": "light"
     },
     "output_type": "display_data"
    }
   ],
   "source": [
    "# Plot confusion matrix\n",
    "from sklearn.metrics import confusion_matrix\n",
    "\n",
    "predictions = rf.predict(test_features)\n",
    "confusion = confusion_matrix(y_true = test_labels, y_pred = predictions)\n",
    "\n",
    "plt.figure(figsize=(10,7))\n",
    "plt.title(\"Confusion Matrix\")\n",
    "sn.heatmap(confusion, annot=True, cmap='Blues', fmt='g')"
   ]
  },
  {
   "cell_type": "code",
   "execution_count": 180,
   "metadata": {},
   "outputs": [
    {
     "name": "stdout",
     "output_type": "stream",
     "text": [
      "Saving Model\n"
     ]
    }
   ],
   "source": [
    "print(\"Saving Model\")\n",
    "\n",
    "with open('../app/models/random_forest_classifier.pkl' ,'wb') as f:\n",
    "    pickle.dump(rf, f)"
   ]
  },
  {
   "cell_type": "code",
   "execution_count": 5,
   "metadata": {},
   "outputs": [
    {
     "data": {
      "text/plain": [
       "Ticket_number                      4259370765\n",
       "Issue_Date                2015-05-26T00:00:00\n",
       "Issue_time                                807\n",
       "Meter_Id                                  NaN\n",
       "Marked_Time                               NaN\n",
       "RP_State_Plate                             NE\n",
       "Plate_Expiry_Date                    201508.0\n",
       "VIN                                       NaN\n",
       "Make                                     AUDI\n",
       "Body_Style                                 PA\n",
       "Color                                      BL\n",
       "Location                     2914 PACIFIC AVE\n",
       "Route                                   00131\n",
       "Agency                                   51.0\n",
       "Violation_code                        80.69BS\n",
       "Violation_Description    NO PARK/STREET CLEAN\n",
       "Fine_amount                                73\n",
       "Latitude                                99999\n",
       "Longitude                               99999\n",
       "Name: 1066208, dtype: object"
      ]
     },
     "execution_count": 5,
     "metadata": {},
     "output_type": "execute_result"
    }
   ],
   "source": [
    "citations.iloc[1]"
   ]
  },
  {
   "cell_type": "code",
   "execution_count": 22,
   "metadata": {},
   "outputs": [
    {
     "data": {
      "text/plain": [
       "6196.205971717987"
      ]
     },
     "execution_count": 22,
     "metadata": {},
     "output_type": "execute_result"
    }
   ],
   "source": [
    "citations['Issue_Date'].mean()"
   ]
  },
  {
   "cell_type": "code",
   "execution_count": 23,
   "metadata": {},
   "outputs": [
    {
     "data": {
      "text/plain": [
       "5166.2038558452705"
      ]
     },
     "execution_count": 23,
     "metadata": {},
     "output_type": "execute_result"
    }
   ],
   "source": [
    "citations['Plate_Expiry_Date'].mean()"
   ]
  },
  {
   "cell_type": "code",
   "execution_count": null,
   "metadata": {},
   "outputs": [],
   "source": []
  }
 ],
 "metadata": {
  "kernelspec": {
   "display_name": "Python 2",
   "language": "python",
   "name": "python2"
  },
  "language_info": {
   "codemirror_mode": {
    "name": "ipython",
    "version": 2
   },
   "file_extension": ".py",
   "mimetype": "text/x-python",
   "name": "python",
   "nbconvert_exporter": "python",
   "pygments_lexer": "ipython2",
   "version": "2.7.16"
  }
 },
 "nbformat": 4,
 "nbformat_minor": 2
}
