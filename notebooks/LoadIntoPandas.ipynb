{
 "cells": [
  {
   "cell_type": "code",
   "execution_count": 1,
   "metadata": {},
   "outputs": [],
   "source": [
    "import seaborn as sn\n",
    "import matplotlib\n",
    "import matplotlib.pyplot as plt\n",
    "import pandas as pd\n",
    "import numpy as np\n",
    "import csv\n",
    "from pprint import pprint\n",
    "import random\n",
    "from sklearn import preprocessing\n",
    "from __future__ import division\n",
    "import pickle\n",
    "from datetime import datetime\n",
    "\n",
    "\n",
    "filename = '../data/parking_citations_uncorrupted.csv'\n",
    "random.seed(42)"
   ]
  },
  {
   "cell_type": "code",
   "execution_count": 2,
   "metadata": {},
   "outputs": [],
   "source": [
    "# Get headers and data types\n",
    "columns = []\n",
    "with open(filename) as f:\n",
    "    reader = csv.reader(f)\n",
    "    columns = reader.next()\n",
    "    \n",
    "names = [col.replace(\" \",\"_\") for col in columns]\n",
    "\n",
    "dtypes = {\n",
    "    'Ticket_number': 'unicode' ,\n",
    "    'Issue_Date': 'unicode' ,\n",
    "    'Issue_Time': np.float64  ,\n",
    "    'Meter_Id': 'unicode',\n",
    "    'Marked_Time': np.float64 ,\n",
    "    'RP_State_Plate': 'unicode',\n",
    "    'Plate_Expiry_Date': 'unicode' ,\n",
    "    'VIN': 'unicode' ,\n",
    "    'Make': 'unicode' ,\n",
    "    'Body Style': 'unicode' ,\n",
    "    'Color': 'unicode' ,\n",
    "    'Location': 'unicode' ,\n",
    "    'Route': 'unicode' ,\n",
    "    'Agency': 'unicode' ,\n",
    "    'Violation_Code': 'unicode' ,\n",
    "    'Violation_Description': 'unicode' ,\n",
    "    'Fine_amount': np.float64 ,\n",
    "    'Latitude': np.float64 ,\n",
    "    'Longitude': np.float64 ,\n",
    "}\n"
   ]
  },
  {
   "cell_type": "code",
   "execution_count": 3,
   "metadata": {},
   "outputs": [
    {
     "name": "stdout",
     "output_type": "stream",
     "text": [
      "CPU times: user 12.4 s, sys: 1.31 s, total: 13.7 s\n",
      "Wall time: 17.6 s\n"
     ]
    }
   ],
   "source": [
    "%%time\n",
    "\n",
    "# Load data from file\n",
    "citations = pd.read_csv(\n",
    "    filename ,\n",
    "    header = 0 ,\n",
    "    names = names ,\n",
    "    dtype = dtypes ,\n",
    "    #parse_dates = parse_dates ,\n",
    ")"
   ]
  },
  {
   "cell_type": "code",
   "execution_count": 4,
   "metadata": {
    "collapsed": true
   },
   "outputs": [
    {
     "data": {
      "text/plain": [
       "0         2003-01-01 00:16:00\n",
       "1         2016-01-01 00:05:00\n",
       "2         2015-01-01 00:11:00\n",
       "3         2017-01-01 00:01:00\n",
       "4         2016-01-01 00:05:00\n",
       "5                         NaT\n",
       "6         2016-01-01 00:06:00\n",
       "7         2015-01-01 00:09:00\n",
       "8         2015-01-01 00:11:00\n",
       "9         2016-01-01 00:10:00\n",
       "10        2016-01-01 00:01:00\n",
       "11        2016-01-01 00:01:00\n",
       "12        2015-01-01 00:10:00\n",
       "13        2015-01-01 00:06:00\n",
       "14        2015-01-01 00:11:00\n",
       "15        2015-01-01 00:12:00\n",
       "16        2016-01-01 00:01:00\n",
       "17                        NaT\n",
       "18        2015-01-01 00:08:00\n",
       "19        2016-01-01 00:02:00\n",
       "20        2016-01-01 00:06:00\n",
       "21        2015-01-01 00:06:00\n",
       "22        2016-01-01 00:01:00\n",
       "23        2015-01-01 00:08:00\n",
       "24        2015-01-01 00:04:00\n",
       "25        2016-01-01 00:08:00\n",
       "26        2016-01-01 00:01:00\n",
       "27        2015-01-01 00:05:00\n",
       "28        2016-01-01 00:05:00\n",
       "29        2015-01-01 00:09:00\n",
       "                  ...        \n",
       "4357505   2019-01-01 00:05:00\n",
       "4357506   2019-01-01 00:04:00\n",
       "4357507   2019-01-01 00:09:00\n",
       "4357508   2019-01-01 00:04:00\n",
       "4357509   2019-01-01 00:05:00\n",
       "4357510                   NaT\n",
       "4357511   2019-01-01 00:07:00\n",
       "4357512   2019-01-01 00:10:00\n",
       "4357513                   NaT\n",
       "4357514   2019-01-01 00:06:00\n",
       "4357515   2019-01-01 00:04:00\n",
       "4357516   2018-01-01 00:12:00\n",
       "4357517   2019-01-01 00:09:00\n",
       "4357518   2019-01-01 00:05:00\n",
       "4357519   2018-01-01 00:08:00\n",
       "4357520   2018-01-01 00:12:00\n",
       "4357521   2019-01-01 00:08:00\n",
       "4357522   2019-01-01 00:06:00\n",
       "4357523                   NaT\n",
       "4357524   2019-01-01 00:10:00\n",
       "4357525   2018-01-01 00:05:00\n",
       "4357526   2019-01-01 00:03:00\n",
       "4357527   2018-01-01 00:11:00\n",
       "4357528   2018-01-01 00:08:00\n",
       "4357529                   NaT\n",
       "4357530                   NaT\n",
       "4357531   2019-01-01 00:09:00\n",
       "4357532   2019-01-01 00:05:00\n",
       "4357533   2019-01-01 00:12:00\n",
       "4357534   2019-01-01 00:05:00\n",
       "Name: Plate_Expiry_Date, Length: 4357535, dtype: datetime64[ns]"
      ]
     },
     "execution_count": 4,
     "metadata": {},
     "output_type": "execute_result"
    }
   ],
   "source": [
    "citations['Issue_Date'] = pd.to_datetime(citations['Issue_Date'])\n",
    "\n",
    "citations['Plate_Expiry_Date'] = citations['Plate_Expiry_Date'].fillna('')\n",
    "citations['Plate_Expiry_Date'] = pd.to_datetime(citations['Plate_Expiry_Date'].str[:-2], format='%Y%M', errors='coerce')"
   ]
  },
  {
   "cell_type": "code",
   "execution_count": 100,
   "metadata": {},
   "outputs": [],
   "source": [
    "citations['Plate_Expiry_Date'] = citations['Plate_Expiry_Date'].apply(lambda x: str(x)[:-2] if len(x) == 8 else np.nan)\n",
    "\n",
    "def convert_date_string(string):\n",
    "    if type(string) != str:\n",
    "        return np.nan\n",
    "    else:\n",
    "        date = datetime.strptime(string, '%Y%M').replace(hour=0, minute=0)\n",
    "\n",
    "    return date\n",
    "\n",
    "citations['Plate_Expiry_Date'] = citations['Plate_Expiry_Date'].apply(lambda x: convert_date_string(x))\n"
   ]
  },
  {
   "cell_type": "code",
   "execution_count": 11,
   "metadata": {},
   "outputs": [
    {
     "name": "stdout",
     "output_type": "stream",
     "text": [
      "CPU times: user 202 ms, sys: 15.9 ms, total: 218 ms\n",
      "Wall time: 217 ms\n"
     ]
    }
   ],
   "source": [
    "%%time\n",
    "\n",
    "# Top 25 makes\n",
    "top_25_makes = citations.groupby(['Make']).size().sort_values(ascending=False)[:25]"
   ]
  },
  {
   "cell_type": "code",
   "execution_count": 118,
   "metadata": {},
   "outputs": [
    {
     "name": "stdout",
     "output_type": "stream",
     "text": [
      "CPU times: user 828 ms, sys: 39.9 ms, total: 868 ms\n",
      "Wall time: 868 ms\n"
     ]
    }
   ],
   "source": [
    "%%time\n",
    "\n",
    "# Most common color for each make\n",
    "most_common_color = pd.DataFrame(citations.groupby(['Make','Color']).size())#.sort_values(ascending = False)\n",
    "most_common_color = most_common_color.reset_index(level='Make').groupby(['Make'])[0].idxmax()\n"
   ]
  },
  {
   "cell_type": "code",
   "execution_count": 33,
   "metadata": {},
   "outputs": [
    {
     "name": "stdout",
     "output_type": "stream",
     "text": [
      "CPU times: user 631 ms, sys: 136 ms, total: 767 ms\n",
      "Wall time: 766 ms\n"
     ]
    }
   ],
   "source": [
    "%%time\n",
    "\n",
    "# First ticket issued for each make\n",
    "first_ticket_issued = citations.groupby(['Make'])['Issue_Date'].idxmin()\n",
    "first_ticket_issued = citations.loc[first_ticket_issued.values][['Make','Ticket_number']]"
   ]
  },
  {
   "cell_type": "code",
   "execution_count": 24,
   "metadata": {},
   "outputs": [
    {
     "name": "stdout",
     "output_type": "stream",
     "text": [
      "0.574891225526\n",
      "0.609997203871\n",
      "CPU times: user 2.57 s, sys: 579 ms, total: 3.14 s\n",
      "Wall time: 3.14 s\n"
     ]
    }
   ],
   "source": [
    "%%time \n",
    "\n",
    "# is out of state license more likely to be expired than in-state?\n",
    "citations = citations[citations['Plate_Expiry_Date'].notnull()]\n",
    "\n",
    "oos_expired = citations[(citations['RP_State_Plate'] != 'CA') & (citations['Plate_Expiry_Date'] < citations['Issue_Date'])].shape[0]\n",
    "oos_total = citations[(citations['RP_State_Plate'] != 'CA')].shape[0]\n",
    "oos_prb = oos_expired / oos_total\n",
    "print(oos_prb)\n",
    "\n",
    "is_expired = citations[(citations['RP_State_Plate'] == 'CA') & (citations['Plate_Expiry_Date'] < citations['Issue_Date'])].shape[0]\n",
    "is_total = citations[(citations['RP_State_Plate'] == 'CA')].shape[0]\n",
    "is_prb = is_expired / is_total\n",
    "print(is_prb)"
   ]
  },
  {
   "cell_type": "markdown",
   "metadata": {},
   "source": [
    "Out of state probability: 0.574891225526\n",
    "In state probability: 0.609997203871\n",
    "    \n",
    "Conclusion:  Out of state plates are not more likely to be expired when ticketed than in-state plates."
   ]
  }
 ],
 "metadata": {
  "kernelspec": {
   "display_name": "Python 2",
   "language": "python",
   "name": "python2"
  },
  "language_info": {
   "codemirror_mode": {
    "name": "ipython",
    "version": 2
   },
   "file_extension": ".py",
   "mimetype": "text/x-python",
   "name": "python",
   "nbconvert_exporter": "python",
   "pygments_lexer": "ipython2",
   "version": "2.7.16"
  }
 },
 "nbformat": 4,
 "nbformat_minor": 2
}
