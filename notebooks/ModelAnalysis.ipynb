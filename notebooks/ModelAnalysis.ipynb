{
 "cells": [
  {
   "cell_type": "code",
   "execution_count": 2,
   "metadata": {},
   "outputs": [],
   "source": [
    "import seaborn as sn\n",
    "import matplotlib\n",
    "import matplotlib.pyplot as plt\n",
    "import pandas as pd\n",
    "import numpy as np\n",
    "import csv\n",
    "from pprint import pprint\n",
    "import random\n",
    "from sklearn import preprocessing\n",
    "from __future__ import division\n",
    "import pickle\n",
    "from pyproj import Proj, transform\n",
    "from math import sqrt \n",
    "from datetime import datetime\n",
    "\n",
    "# Load data from \"uncorrupted\" part of dataset\n",
    "filename = '../data/parking_citations_uncorrupted.csv'\n",
    "random.seed(42)"
   ]
  },
  {
   "cell_type": "code",
   "execution_count": 4,
   "metadata": {},
   "outputs": [],
   "source": [
    "# Get headers and data types\n",
    "columns = []\n",
    "with open(filename) as f:\n",
    "    reader = csv.reader(f)\n",
    "    columns = reader.next()\n",
    "    \n",
    "names = [col.replace(\" \",\"_\") for col in columns]\n",
    "\n",
    "dtypes = {\n",
    "    'Ticket_number': 'unicode' ,\n",
    "    'Issue_Date': 'unicode' ,\n",
    "    'Issue_Time':'unicode'  ,\n",
    "    'Meter_Id': 'unicode',\n",
    "    'Marked_Time': 'unicode' ,\n",
    "    'RP_State_Plate': 'unicode',\n",
    "    'Plate_Expiry_Date': 'unicode' ,\n",
    "    'VIN': 'unicode' ,\n",
    "    'Make': 'unicode' ,\n",
    "    'Body Style': 'unicode' ,\n",
    "    'Color': 'unicode' ,\n",
    "    'Location': 'unicode' ,\n",
    "    'Route': 'unicode' ,\n",
    "    'Agency': 'unicode' ,\n",
    "    'Violation_Code': 'unicode' ,\n",
    "    'Violation_Description': 'unicode' ,\n",
    "    'Fine_amount': np.float64 ,\n",
    "    'Latitude': np.float64 ,\n",
    "    'Longitude': np.float64 ,\n",
    "}"
   ]
  },
  {
   "cell_type": "code",
   "execution_count": 5,
   "metadata": {},
   "outputs": [],
   "source": [
    "# Load data from file\n",
    "citations = pd.read_csv(\n",
    "    filename ,\n",
    "    header = 0 ,\n",
    "    names = names ,\n",
    "    dtype = dtypes ,\n",
    ")"
   ]
  },
  {
   "cell_type": "code",
   "execution_count": 6,
   "metadata": {},
   "outputs": [
    {
     "name": "stdout",
     "output_type": "stream",
     "text": [
      "Agency\n",
      "Color\n",
      "Route\n",
      "Violation_code\n",
      "Violation_Description\n",
      "Location\n",
      "Body_Style\n",
      "RP_State_Plate\n"
     ]
    }
   ],
   "source": [
    "# Label-encode all high cardinality categoricals - worked better than one-hot\n",
    "categorical_vars = [\n",
    "    'Agency' , \n",
    "    'Color' ,\n",
    "    'Route' ,\n",
    "    'Violation_code' ,\n",
    "    'Violation_Description' ,\n",
    "    'Location' ,\n",
    "    'Body_Style' ,\n",
    "    'RP_State_Plate'\n",
    "]\n",
    "\n",
    "for v in categorical_vars:\n",
    "    print(v)\n",
    "    le = preprocessing.LabelEncoder()\n",
    "    le.fit(citations[v])\n",
    "    citations[v] = le.transform(citations[v])\n"
   ]
  },
  {
   "cell_type": "code",
   "execution_count": 7,
   "metadata": {},
   "outputs": [],
   "source": [
    "feature_cols = [\n",
    "    'Issue_Date' ,\n",
    "    'Issue_time' ,\n",
    "    'Plate_Expiry_Date' ,\n",
    "    'Color' ,\n",
    "    'Location' ,\n",
    "    'Route' ,\n",
    "    'Agency' ,\n",
    "    'Violation_code' ,\n",
    "    'Violation_Description' ,\n",
    "    'Fine_amount' ,\n",
    "    'Body_Style' ,\n",
    "    'RP_State_Plate' ,\n",
    "    'distance_from_la'\n",
    "] \n",
    "\n",
    "target_cols = [\n",
    "    'top_25_makes' ,\n",
    "]"
   ]
  },
  {
   "cell_type": "code",
   "execution_count": 8,
   "metadata": {},
   "outputs": [
    {
     "ename": "KeyError",
     "evalue": "u\"None of [Index([u'top_25_makes'], dtype='object')] are in the [columns]\"",
     "output_type": "error",
     "traceback": [
      "\u001b[0;31m---------------------------------------------------------------------------\u001b[0m",
      "\u001b[0;31mKeyError\u001b[0m                                  Traceback (most recent call last)",
      "\u001b[0;32m<ipython-input-8-838bea1bc133>\u001b[0m in \u001b[0;36m<module>\u001b[0;34m()\u001b[0m\n\u001b[0;32m----> 1\u001b[0;31m \u001b[0mlabels\u001b[0m \u001b[0;34m=\u001b[0m \u001b[0mnp\u001b[0m\u001b[0;34m.\u001b[0m\u001b[0marray\u001b[0m\u001b[0;34m(\u001b[0m\u001b[0mcitations\u001b[0m\u001b[0;34m[\u001b[0m\u001b[0mtarget_cols\u001b[0m\u001b[0;34m]\u001b[0m\u001b[0;34m)\u001b[0m\u001b[0;34m\u001b[0m\u001b[0m\n\u001b[0m\u001b[1;32m      2\u001b[0m \u001b[0mfeatures\u001b[0m \u001b[0;34m=\u001b[0m \u001b[0mnp\u001b[0m\u001b[0;34m.\u001b[0m\u001b[0marray\u001b[0m\u001b[0;34m(\u001b[0m\u001b[0mcitations\u001b[0m\u001b[0;34m[\u001b[0m\u001b[0mfeature_cols\u001b[0m\u001b[0;34m]\u001b[0m\u001b[0;34m)\u001b[0m\u001b[0;34m\u001b[0m\u001b[0m\n",
      "\u001b[0;32m/home/ec2-user/grainger_data_science/env/lib/python2.7/site-packages/pandas/core/frame.pyc\u001b[0m in \u001b[0;36m__getitem__\u001b[0;34m(self, key)\u001b[0m\n\u001b[1;32m   2932\u001b[0m                 \u001b[0mkey\u001b[0m \u001b[0;34m=\u001b[0m \u001b[0mlist\u001b[0m\u001b[0;34m(\u001b[0m\u001b[0mkey\u001b[0m\u001b[0;34m)\u001b[0m\u001b[0;34m\u001b[0m\u001b[0m\n\u001b[1;32m   2933\u001b[0m             indexer = self.loc._convert_to_indexer(key, axis=1,\n\u001b[0;32m-> 2934\u001b[0;31m                                                    raise_missing=True)\n\u001b[0m\u001b[1;32m   2935\u001b[0m \u001b[0;34m\u001b[0m\u001b[0m\n\u001b[1;32m   2936\u001b[0m         \u001b[0;31m# take() does not accept boolean indexers\u001b[0m\u001b[0;34m\u001b[0m\u001b[0;34m\u001b[0m\u001b[0m\n",
      "\u001b[0;32m/home/ec2-user/grainger_data_science/env/lib/python2.7/site-packages/pandas/core/indexing.pyc\u001b[0m in \u001b[0;36m_convert_to_indexer\u001b[0;34m(self, obj, axis, is_setter, raise_missing)\u001b[0m\n\u001b[1;32m   1352\u001b[0m                 kwargs = {'raise_missing': True if is_setter else\n\u001b[1;32m   1353\u001b[0m                           raise_missing}\n\u001b[0;32m-> 1354\u001b[0;31m                 \u001b[0;32mreturn\u001b[0m \u001b[0mself\u001b[0m\u001b[0;34m.\u001b[0m\u001b[0m_get_listlike_indexer\u001b[0m\u001b[0;34m(\u001b[0m\u001b[0mobj\u001b[0m\u001b[0;34m,\u001b[0m \u001b[0maxis\u001b[0m\u001b[0;34m,\u001b[0m \u001b[0;34m**\u001b[0m\u001b[0mkwargs\u001b[0m\u001b[0;34m)\u001b[0m\u001b[0;34m[\u001b[0m\u001b[0;36m1\u001b[0m\u001b[0;34m]\u001b[0m\u001b[0;34m\u001b[0m\u001b[0m\n\u001b[0m\u001b[1;32m   1355\u001b[0m         \u001b[0;32melse\u001b[0m\u001b[0;34m:\u001b[0m\u001b[0;34m\u001b[0m\u001b[0m\n\u001b[1;32m   1356\u001b[0m             \u001b[0;32mtry\u001b[0m\u001b[0;34m:\u001b[0m\u001b[0;34m\u001b[0m\u001b[0m\n",
      "\u001b[0;32m/home/ec2-user/grainger_data_science/env/lib/python2.7/site-packages/pandas/core/indexing.pyc\u001b[0m in \u001b[0;36m_get_listlike_indexer\u001b[0;34m(self, key, axis, raise_missing)\u001b[0m\n\u001b[1;32m   1159\u001b[0m         self._validate_read_indexer(keyarr, indexer,\n\u001b[1;32m   1160\u001b[0m                                     \u001b[0mo\u001b[0m\u001b[0;34m.\u001b[0m\u001b[0m_get_axis_number\u001b[0m\u001b[0;34m(\u001b[0m\u001b[0maxis\u001b[0m\u001b[0;34m)\u001b[0m\u001b[0;34m,\u001b[0m\u001b[0;34m\u001b[0m\u001b[0m\n\u001b[0;32m-> 1161\u001b[0;31m                                     raise_missing=raise_missing)\n\u001b[0m\u001b[1;32m   1162\u001b[0m         \u001b[0;32mreturn\u001b[0m \u001b[0mkeyarr\u001b[0m\u001b[0;34m,\u001b[0m \u001b[0mindexer\u001b[0m\u001b[0;34m\u001b[0m\u001b[0m\n\u001b[1;32m   1163\u001b[0m \u001b[0;34m\u001b[0m\u001b[0m\n",
      "\u001b[0;32m/home/ec2-user/grainger_data_science/env/lib/python2.7/site-packages/pandas/core/indexing.pyc\u001b[0m in \u001b[0;36m_validate_read_indexer\u001b[0;34m(self, key, indexer, axis, raise_missing)\u001b[0m\n\u001b[1;32m   1244\u001b[0m                 raise KeyError(\n\u001b[1;32m   1245\u001b[0m                     u\"None of [{key}] are in the [{axis}]\".format(\n\u001b[0;32m-> 1246\u001b[0;31m                         key=key, axis=self.obj._get_axis_name(axis)))\n\u001b[0m\u001b[1;32m   1247\u001b[0m \u001b[0;34m\u001b[0m\u001b[0m\n\u001b[1;32m   1248\u001b[0m             \u001b[0;31m# We (temporarily) allow for some missing keys with .loc, except in\u001b[0m\u001b[0;34m\u001b[0m\u001b[0;34m\u001b[0m\u001b[0m\n",
      "\u001b[0;31mKeyError\u001b[0m: u\"None of [Index([u'top_25_makes'], dtype='object')] are in the [columns]\""
     ]
    }
   ],
   "source": [
    "labels = np.array(citations[target_cols])\n",
    "features = np.array(citations[feature_cols])\n"
   ]
  },
  {
   "cell_type": "code",
   "execution_count": null,
   "metadata": {},
   "outputs": [],
   "source": [
    "# Train-test split\n",
    "train_features, test_features, train_labels, test_labels = train_test_split(features, labels, test_size = 0.25, random_state = 42)\n"
   ]
  },
  {
   "cell_type": "code",
   "execution_count": 3,
   "metadata": {},
   "outputs": [],
   "source": [
    "# Load trained model\n",
    "with open('../app/models/random_forest_classifier_final.pkl') as f:\n",
    "    rf = pickle.load(f)"
   ]
  },
  {
   "cell_type": "code",
   "execution_count": 178,
   "metadata": {},
   "outputs": [
    {
     "data": {
      "text/plain": [
       "0.9213963777894051"
      ]
     },
     "execution_count": 178,
     "metadata": {},
     "output_type": "execute_result"
    }
   ],
   "source": [
    "# Summarize model scores\n",
    "rf.score(test_features, test_labels)"
   ]
  },
  {
   "cell_type": "code",
   "execution_count": 102,
   "metadata": {},
   "outputs": [
    {
     "name": "stdout",
     "output_type": "stream",
     "text": [
      "1    0.91472\n",
      "0    0.08528\n",
      "Name: top_25_makes, dtype: float64\n"
     ]
    }
   ],
   "source": [
    "# Check skew of labels - compare to baseline when naievely guessing 1\n",
    "split = (citations['top_25_makes'].value_counts()) / citations.shape[0]\n",
    "print(split)"
   ]
  },
  {
   "cell_type": "code",
   "execution_count": 175,
   "metadata": {},
   "outputs": [
    {
     "data": {
      "image/png": "[encoded data removed]",
      "text/plain": [
       "<Figure size 432x288 with 1 Axes>"
      ]
     },
     "metadata": {
      "needs_background": "light"
     },
     "output_type": "display_data"
    }
   ],
   "source": [
    "# Visualize feature importance\n",
    "feature_importance = pd.DataFrame(\n",
    "    rf.feature_importances_ ,\n",
    "    index = feature_cols ,\n",
    "    columns = ['importance'] ,\n",
    ").sort_values('importance',ascending=False)\n",
    "\n",
    "\n",
    "y_pos = np.arange(len(feature_importance.index))\n",
    "\n",
    "fig, ax = plt.subplots()\n",
    "\n",
    "ax.barh(y_pos, feature_importance['importance'], align='center')\n",
    "ax.set_yticks(y_pos)\n",
    "ax.set_yticklabels(feature_importance.index)\n",
    "ax.invert_yaxis()\n",
    "\n",
    "\n",
    "plt.show()"
   ]
  },
  {
   "cell_type": "code",
   "execution_count": 176,
   "metadata": {},
   "outputs": [
    {
     "data": {
      "text/plain": [
       "<matplotlib.axes._subplots.AxesSubplot at 0x7fae829271d0>"
      ]
     },
     "execution_count": 176,
     "metadata": {},
     "output_type": "execute_result"
    },
    {
     "data": {
      "image/png": "[encoded data removed]",
      "text/plain": [
       "<Figure size 720x504 with 2 Axes>"
      ]
     },
     "metadata": {
      "needs_background": "light"
     },
     "output_type": "display_data"
    }
   ],
   "source": [
    "# Plot confusion matrix\n",
    "from sklearn.metrics import confusion_matrix\n",
    "\n",
    "predictions = rf.predict(test_features)\n",
    "confusion = confusion_matrix(y_true = test_labels, y_pred = predictions)\n",
    "\n",
    "plt.figure(figsize=(10,7))\n",
    "plt.title(\"Confusion Matrix\")\n",
    "sn.heatmap(confusion, annot=True, cmap='Blues', fmt='g')"
   ]
  },
  {
   "cell_type": "code",
   "execution_count": null,
   "metadata": {},
   "outputs": [],
   "source": []
  }
 ],
 "metadata": {
  "kernelspec": {
   "display_name": "Python 2",
   "language": "python",
   "name": "python2"
  },
  "language_info": {
   "codemirror_mode": {
    "name": "ipython",
    "version": 2
   },
   "file_extension": ".py",
   "mimetype": "text/x-python",
   "name": "python",
   "nbconvert_exporter": "python",
   "pygments_lexer": "ipython2",
   "version": "2.7.16"
  }
 },
 "nbformat": 4,
 "nbformat_minor": 2
}
