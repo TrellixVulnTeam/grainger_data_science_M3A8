{
 "cells": [
  {
   "cell_type": "code",
   "execution_count": 25,
   "metadata": {},
   "outputs": [],
   "source": [
    "import seaborn as sn\n",
    "import matplotlib\n",
    "import matplotlib.pyplot as plt\n",
    "import pandas as pd\n",
    "import numpy as np\n",
    "import csv\n",
    "from pprint import pprint\n",
    "import random\n",
    "from sklearn import preprocessing\n",
    "from __future__ import division\n",
    "import pickle\n",
    "from math import sqrt \n",
    "from pprint import pprint\n",
    "import lxml\n",
    "\n",
    "# Load data from \"uncorrupted\" part of dataset\n",
    "filename = '../data/parking_citations_uncorrupted.csv'\n",
    "random.seed(42)"
   ]
  },
  {
   "cell_type": "code",
   "execution_count": 3,
   "metadata": {},
   "outputs": [],
   "source": [
    "# Get headers and data types\n",
    "columns = []\n",
    "with open(filename) as f:\n",
    "    reader = csv.reader(f)\n",
    "    columns = reader.next()\n",
    "    \n",
    "names = [col.replace(\" \",\"_\") for col in columns]\n",
    "\n",
    "dtypes = {\n",
    "    'Ticket_number': 'unicode' ,\n",
    "    'Issue_Date': 'unicode' ,\n",
    "    'Issue_Time':'unicode'  ,\n",
    "    'Meter_Id': 'unicode',\n",
    "    'Marked_Time': 'unicode' ,\n",
    "    'RP_State_Plate': 'unicode',\n",
    "    'Plate_Expiry_Date': 'unicode' ,\n",
    "    'VIN': 'unicode' ,\n",
    "    'Make': 'unicode' ,\n",
    "    'Body Style': 'unicode' ,\n",
    "    'Color': 'unicode' ,\n",
    "    'Location': 'unicode' ,\n",
    "    'Route': 'unicode' ,\n",
    "    'Agency': 'unicode' ,\n",
    "    'Violation_Code': 'unicode' ,\n",
    "    'Violation_Description': 'unicode' ,\n",
    "    'Fine_amount': np.float64 ,\n",
    "    'Latitude': np.float64 ,\n",
    "    'Longitude': np.float64 ,\n",
    "}"
   ]
  },
  {
   "cell_type": "code",
   "execution_count": 75,
   "metadata": {},
   "outputs": [],
   "source": [
    "# Load data from file\n",
    "citations = pd.read_csv(\n",
    "    filename ,\n",
    "    header = 0 ,\n",
    "    names = names ,\n",
    "    dtype = dtypes ,\n",
    ")"
   ]
  },
  {
   "cell_type": "code",
   "execution_count": 76,
   "metadata": {},
   "outputs": [],
   "source": [
    "# start html document\n",
    "from lxml.builder import E\n",
    "from lxml import html, etree\n",
    "doc = E.html()\n"
   ]
  },
  {
   "cell_type": "code",
   "execution_count": 78,
   "metadata": {},
   "outputs": [],
   "source": [
    "# Create picklists for categorical variables\n",
    "head = E.head()\n",
    "\n",
    "cat_vars = [\n",
    "    'Meter_Id' ,\n",
    "    'RP_State_Plate' ,\n",
    "    'Violation_code' ,\n",
    "    'Violation_Description' ,\n",
    "    'Body_Style' ,\n",
    "    'Color' ,\n",
    "    'Location' ,\n",
    "    'Route' ,\n",
    "    'Agency' ,\n",
    "]\n",
    "\n",
    "for c in cat_vars:\n",
    "    unique = citations[c][citations[c].notnull()].unique().tolist()\n",
    "    datalist = E.datalist(id=c)\n",
    "    for val in unique:\n",
    "        opt = E.option(value=val)\n",
    "        datalist.append(opt)\n",
    "    head.append(datalist)\n",
    "\n",
    "doc.append(head)"
   ]
  },
  {
   "cell_type": "code",
   "execution_count": 79,
   "metadata": {},
   "outputs": [],
   "source": [
    "# Create input features\n",
    "body = E.body()\n",
    "form = E.form(action='/predict' , method='post')\n",
    "\n",
    "variables = [(u'Issue_Date','date'), (u'Issue_time','time'), (u'Meter_Id','list'),\n",
    "       (u'Marked_Time','time'), (u'RP_State_Plate','list'), (u'Plate_Expiry_Date','date'),\n",
    "       (u'Body_Style','list'),(u'Color','list'), (u'Location','list'), (u'Route','list'), (u'Agency','list'),\n",
    "       (u'Violation_code','list'), (u'Violation_Description','list'), (u'Fine_amount','number'),\n",
    "       (u'Latitude','number'), (u'Longitude','number')]\n",
    "\n",
    "for v in variables:\n",
    "    label = E.label(v[0])\n",
    "    \n",
    "    if v[0] in cat_vars:\n",
    "        i = E.input(list=v[0])\n",
    "    else:\n",
    "        i = E.input(type=v[1] , name=v[0])\n",
    "    form.append(label)\n",
    "    form.append(i)\n",
    "    \n",
    "submit = E.input(type='submit' , value='Probability Top 25 Make')\n",
    "\n",
    "body.append(form)\n",
    "doc.append(body)\n"
   ]
  },
  {
   "cell_type": "code",
   "execution_count": 80,
   "metadata": {},
   "outputs": [],
   "source": [
    "result = etree.tostring(doc,\n",
    "                        xml_declaration=True,\n",
    "                        doctype='<!DOCTYPE html>',\n",
    "                        encoding='utf-8',\n",
    "                        pretty_print=True)"
   ]
  },
  {
   "cell_type": "code",
   "execution_count": 81,
   "metadata": {},
   "outputs": [],
   "source": [
    "with open('../predict.html' , 'w') as f:\n",
    "    f.write(result)"
   ]
  },
  {
   "cell_type": "code",
   "execution_count": 139,
   "metadata": {},
   "outputs": [
    {
     "data": {
      "text/plain": [
       "Ticket_number                     1106506435\n",
       "Issue_Date               2015-12-22T00:00:00\n",
       "Issue_time                              1105\n",
       "Meter_Id                                 NaN\n",
       "Marked_Time                              NaN\n",
       "RP_State_Plate                            CA\n",
       "Plate_Expiry_Date                   201701.0\n",
       "VIN                                      NaN\n",
       "Make                                    CHRY\n",
       "Body_Style                                PA\n",
       "Color                                     GO\n",
       "Location                     1159 HUNTLEY DR\n",
       "Route                                   2A75\n",
       "Agency                                   1.0\n",
       "Violation_code                        8069AA\n",
       "Violation_Description       NO STOP/STAND AM\n",
       "Fine_amount                               93\n",
       "Latitude                               99999\n",
       "Longitude                              99999\n",
       "Name: 3, dtype: object"
      ]
     },
     "execution_count": 139,
     "metadata": {},
     "output_type": "execute_result"
    }
   ],
   "source": [
    "citations.iloc[3]"
   ]
  },
  {
   "cell_type": "code",
   "execution_count": 92,
   "metadata": {},
   "outputs": [],
   "source": [
    "js = {\n",
    "'Issue_Date':                '2015-09-15T00:00:00' ,\n",
    "'Issue_time':                                115,\n",
    "'Meter_Id':                                  'WF55',\n",
    "'Marked_Time':                               1145.0,\n",
    "'RP_State_Plate':                             'CA',\n",
    "'Plate_Expiry_Date':                    200316.0,\n",
    "'VIN':                                       9817,\n",
    "'Make':                                     'CHEV',\n",
    "'Body_Style':                                'PA',\n",
    "'Color':                                      'BK',\n",
    "'Location':                   'GEORGIA ST/OLYMPIC',\n",
    "'Route':                                   '1FB70',\n",
    "'Agency':                                    '1.0',\n",
    "'Violation_code':                          '8069A',\n",
    "'Violation_Description':    'NO STOPPING/STANDING',\n",
    "'Fine_amount':                                93,\n",
    "'Latitude':                                99999,\n",
    "'Longitude':                               99999,\n",
    "}"
   ]
  },
  {
   "cell_type": "code",
   "execution_count": 93,
   "metadata": {},
   "outputs": [
    {
     "data": {
      "text/plain": [
       "'{\"Location\": \"GEORGIA ST/OLYMPIC\", \"Issue_Date\": \"2015-09-15T00:00:00\", \"Body_Style\": \"PA\", \"Violation_code\": \"8069A\", \"Plate_Expiry_Date\": 200316.0, \"Make\": \"CHEV\", \"Agency\": 1.0, \"VIN\": 9817, \"Violation_Description\": \"NO STOPPING/STANDING\", \"Longitude\": 99999, \"Color\": \"BK\", \"Issue_time\": 115, \"Marked_Time\": 1145.0, \"Latitude\": 99999, \"Fine_amount\": 93, \"RP_State_Plate\": \"CA\", \"Route\": \"1FB70\", \"Meter_Id\": \"WF55\"}'"
      ]
     },
     "execution_count": 93,
     "metadata": {},
     "output_type": "execute_result"
    }
   ],
   "source": [
    "import json\n",
    "json.dumps(js)"
   ]
  },
  {
   "cell_type": "code",
   "execution_count": 94,
   "metadata": {},
   "outputs": [],
   "source": [
    "import pickle\n",
    "with open('../app/models/Color_label_encoder.pkl','rb') as f:\n",
    "    enc = pickle.load(f)"
   ]
  },
  {
   "cell_type": "code",
   "execution_count": 97,
   "metadata": {},
   "outputs": [
    {
     "data": {
      "text/plain": [
       "array([6])"
      ]
     },
     "execution_count": 97,
     "metadata": {},
     "output_type": "execute_result"
    }
   ],
   "source": [
    "enc.transform(['BK'])"
   ]
  },
  {
   "cell_type": "code",
   "execution_count": 22,
   "metadata": {},
   "outputs": [
    {
     "name": "stdout",
     "output_type": "stream",
     "text": [
      "{'Plate_Expiry_Date': 1096, 'Issue_Date': 1353}\n"
     ]
    }
   ],
   "source": [
    "from datetime import datetime \n",
    "\n",
    "start_epoch = datetime(2000,01,01)\n",
    "data = {\n",
    "    \"Issue_Date\": \"2003-09-15T00:00:00\" , #T00:00:00\n",
    "    \"Plate_Expiry_Date\":\"200301\" ,\n",
    "}\n",
    "\n",
    "issue_dt = data['Issue_Date']\n",
    "issue_dt = datetime.strptime(issue_dt, \"%Y-%m-%dT%M:%H:%S\")\n",
    "issue_dt = (issue_dt - start_epoch).days\n",
    "data['Issue_Date'] = issue_dt\n",
    "\n",
    "exp_dt = data['Plate_Expiry_Date']\n",
    "exp_dt = datetime.strptime(exp_dt , \"%Y%m\")\n",
    "exp_dt = (exp_dt - start_epoch).days\n",
    "data['Plate_Expiry_Date'] = exp_dt\n",
    "\n",
    "print(data)\n"
   ]
  },
  {
   "cell_type": "code",
   "execution_count": 118,
   "metadata": {},
   "outputs": [
    {
     "data": {
      "text/plain": [
       "Timedelta('-1 days +23:59:59.999798')"
      ]
     },
     "execution_count": 118,
     "metadata": {},
     "output_type": "execute_result"
    }
   ],
   "source": [
    "pd.to_timedelta('2018')"
   ]
  },
  {
   "cell_type": "code",
   "execution_count": 145,
   "metadata": {},
   "outputs": [
    {
     "name": "stdout",
     "output_type": "stream",
     "text": [
      "20030101T00:00:00\n"
     ]
    },
    {
     "data": {
      "text/plain": [
       "Timedelta('13909 days 19:01:00')"
      ]
     },
     "execution_count": 145,
     "metadata": {},
     "output_type": "execute_result"
    }
   ],
   "source": [
    "from datetime import datetime\n",
    "dt = datetime.strptime('200301','%Y%M')\n",
    "dt = dt.strftime(format=\"%Y%M%dT00:00:00\")\n",
    "print dt\n",
    "pd.to_timedelta(dt)"
   ]
  },
  {
   "cell_type": "code",
   "execution_count": 149,
   "metadata": {},
   "outputs": [
    {
     "data": {
      "text/plain": [
       "Timedelta('13910 days 08:35:00')"
      ]
     },
     "execution_count": 149,
     "metadata": {},
     "output_type": "execute_result"
    }
   ],
   "source": [
    "pd.to_timedelta('20030915T00:00:00')"
   ]
  },
  {
   "cell_type": "code",
   "execution_count": 152,
   "metadata": {},
   "outputs": [
    {
     "data": {
      "text/plain": [
       "Timedelta('13909 days 19:12:00')"
      ]
     },
     "execution_count": 152,
     "metadata": {},
     "output_type": "execute_result"
    }
   ],
   "source": [
    "pd.to_timedelta('20030112T00:00:00')"
   ]
  },
  {
   "cell_type": "code",
   "execution_count": 157,
   "metadata": {},
   "outputs": [
    {
     "data": {
      "text/plain": [
       "1"
      ]
     },
     "execution_count": 157,
     "metadata": {},
     "output_type": "execute_result"
    }
   ],
   "source": [
    "(pd.to_datetime('20160102') - datetime(2016,01,01)).days"
   ]
  },
  {
   "cell_type": "code",
   "execution_count": null,
   "metadata": {},
   "outputs": [],
   "source": []
  }
 ],
 "metadata": {
  "kernelspec": {
   "display_name": "Python 2",
   "language": "python",
   "name": "python2"
  },
  "language_info": {
   "codemirror_mode": {
    "name": "ipython",
    "version": 2
   },
   "file_extension": ".py",
   "mimetype": "text/x-python",
   "name": "python",
   "nbconvert_exporter": "python",
   "pygments_lexer": "ipython2",
   "version": "2.7.16"
  }
 },
 "nbformat": 4,
 "nbformat_minor": 2
}
