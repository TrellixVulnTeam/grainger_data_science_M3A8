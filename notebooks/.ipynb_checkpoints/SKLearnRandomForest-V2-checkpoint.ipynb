{
 "cells": [
  {
   "cell_type": "code",
   "execution_count": 1,
   "metadata": {},
   "outputs": [],
   "source": [
    "import seaborn as sn\n",
    "import matplotlib\n",
    "import matplotlib.pyplot as plt\n",
    "import pandas as pd\n",
    "import numpy as np\n",
    "import csv\n",
    "from pprint import pprint\n",
    "import random\n",
    "from sklearn import preprocessing\n",
    "from __future__ import division\n",
    "import pickle\n",
    "from pyproj import Proj, transform\n",
    "from math import sqrt \n",
    "from datetime import datetime\n",
    "\n",
    "# Load data from \"uncorrupted\" part of dataset\n",
    "filename = '../data/parking_citations_uncorrupted.csv'\n",
    "random.seed(42)"
   ]
  },
  {
   "cell_type": "code",
   "execution_count": 2,
   "metadata": {},
   "outputs": [],
   "source": [
    "# Get headers and data types\n",
    "columns = []\n",
    "with open(filename) as f:\n",
    "    reader = csv.reader(f)\n",
    "    columns = reader.next()\n",
    "    \n",
    "names = [col.replace(\" \",\"_\") for col in columns]\n",
    "\n",
    "dtypes = {\n",
    "    'Ticket_number': 'unicode' ,\n",
    "    'Issue_Date': 'unicode' ,\n",
    "    'Issue_Time':'unicode'  ,\n",
    "    'Meter_Id': 'unicode',\n",
    "    'Marked_Time': 'unicode' ,\n",
    "    'RP_State_Plate': 'unicode',\n",
    "    'Plate_Expiry_Date': 'unicode' ,\n",
    "    'VIN': 'unicode' ,\n",
    "    'Make': 'unicode' ,\n",
    "    'Body Style': 'unicode' ,\n",
    "    'Color': 'unicode' ,\n",
    "    'Location': 'unicode' ,\n",
    "    'Route': 'unicode' ,\n",
    "    'Agency': 'unicode' ,\n",
    "    'Violation_Code': 'unicode' ,\n",
    "    'Violation_Description': 'unicode' ,\n",
    "    'Fine_amount': np.float64 ,\n",
    "    'Latitude': np.float64 ,\n",
    "    'Longitude': np.float64 ,\n",
    "}"
   ]
  },
  {
   "cell_type": "code",
   "execution_count": 3,
   "metadata": {},
   "outputs": [],
   "source": [
    "# Load data from file\n",
    "citations = pd.read_csv(\n",
    "    filename ,\n",
    "    header = 0 ,\n",
    "    names = names ,\n",
    "    dtype = dtypes ,\n",
    ")"
   ]
  },
  {
   "cell_type": "code",
   "execution_count": 4,
   "metadata": {},
   "outputs": [],
   "source": [
    "# Label dataset by top 25 makes\n",
    "top_25_makes = citations.groupby(['Make']).size().sort_values(ascending=False)\n",
    "make_names = set(top_25_makes.index[:25])\n",
    "\n",
    "citations['top_25_makes'] = citations['Make'].apply(lambda x: (x in make_names)*1)\n",
    "citations['top_25_makes'] = citations['top_25_makes'].astype('category')"
   ]
  },
  {
   "cell_type": "code",
   "execution_count": 59,
   "metadata": {},
   "outputs": [],
   "source": [
    "# Replace null Latitude & Longitude with 99999.0\n",
    "citations['Latitude'] = citations['Latitude'].fillna(99999.0)\n",
    "citations['Longitude'] = citations['Longitude'].fillna(99999.0)"
   ]
  },
  {
   "cell_type": "code",
   "execution_count": 5,
   "metadata": {},
   "outputs": [
    {
     "name": "stdout",
     "output_type": "stream",
     "text": [
      "RP_State_Plate\n",
      "Body_Style\n",
      "Color\n",
      "Route\n",
      "Agency\n",
      "Violation_code\n",
      "Violation_Description\n",
      "Location\n"
     ]
    }
   ],
   "source": [
    "# Date formatting and coversion to days since epoch\n",
    "citations['Issue_Date'] = pd.to_datetime(citations['Issue_Date'])\n",
    "\n",
    "citations['Plate_Expiry_Date'] = citations['Plate_Expiry_Date'].fillna('')\n",
    "citations['Plate_Expiry_Date'] = pd.to_datetime(citations['Plate_Expiry_Date'].str[:-2], format='%Y%M', errors='coerce')\n",
    "\n",
    "citations['Issue_Date'] = (citations['Issue_Date'] - datetime(2000,01,01)).dt.days\n",
    "citations['Plate_Expiry_Date'] = (citations['Plate_Expiry_Date'].fillna(datetime(2000,01,01)) - datetime(2000,01,01)).dt.days\n",
    "\n",
    "#min_date = citations['Issue_Date'].min()\n",
    "\n",
    "#citations['Issue_Date'] = citations['Issue_Date'] - min_date\n",
    "#citations['Plate_Expiry_Date'] = citations['Plate_Expiry_Date'] - min_date\n",
    "\n",
    "# Drop vars with too many NA's\n",
    "drop_vars = [\n",
    "    'VIN' ,\n",
    "    'Marked_Time' ,\n",
    "    'Meter_Id'\n",
    "]\n",
    "\n",
    "try:\n",
    "    citations.drop(drop_vars , axis=1, inplace=True)\n",
    "except KeyError:\n",
    "    print(\"Already dropped columns.\")\n",
    "\n",
    "# Fill in nulls for continuous variables\n",
    "citations['Issue_time'] = citations['Issue_time'].fillna(citations['Issue_time'].median())\n",
    "citations['Fine_amount'] = citations['Fine_amount'].fillna(citations['Fine_amount'].median())\n",
    "#citations['Plate_Expiry_Date'] = citations['Plate_Expiry_Date'].fillna(citations['Plate_Expiry_Date'].mode())\n",
    "\n",
    "# Fill in nulls for categorical variables\n",
    "categorical_vars = [\n",
    "    'RP_State_Plate' ,\n",
    "    'Body_Style' ,\n",
    "    'Color' ,\n",
    "    'Route' ,\n",
    "    'Agency' ,\n",
    "    'Violation_code' ,\n",
    "    'Violation_Description' ,\n",
    "    'Location'\n",
    "]\n",
    "\n",
    "for v in categorical_vars:\n",
    "    print(v)\n",
    "    citations[v] = citations[v].astype('category')\n",
    "    citations[v] = citations[v].fillna(citations[v].mode().values[0])"
   ]
  },
  {
   "cell_type": "code",
   "execution_count": 6,
   "metadata": {},
   "outputs": [],
   "source": [
    "# Convert latitude/longitude into distance from center of LA\n",
    "# Using US Feet Projection, should be Cartesian formula\n",
    "# http://www.earthpoint.us/StatePlane.aspx, (34.0522,-118.2437)\n",
    "la_lat = 6487847\n",
    "la_lon = 1841468\n",
    "\n",
    "citations['distance_from_la'] = ((citations['Latitude'] - la_lat)**2 + (citations['Longitude'] - la_lon)**2).apply(lambda x: sqrt(x))/5280"
   ]
  },
  {
   "cell_type": "code",
   "execution_count": 7,
   "metadata": {},
   "outputs": [
    {
     "data": {
      "text/html": [
       "<div>\n",
       "<style scoped>\n",
       "    .dataframe tbody tr th:only-of-type {\n",
       "        vertical-align: middle;\n",
       "    }\n",
       "\n",
       "    .dataframe tbody tr th {\n",
       "        vertical-align: top;\n",
       "    }\n",
       "\n",
       "    .dataframe thead th {\n",
       "        text-align: right;\n",
       "    }\n",
       "</style>\n",
       "<table border=\"1\" class=\"dataframe\">\n",
       "  <thead>\n",
       "    <tr style=\"text-align: right;\">\n",
       "      <th></th>\n",
       "      <th>Ticket_number</th>\n",
       "      <th>Issue_Date</th>\n",
       "      <th>Issue_time</th>\n",
       "      <th>RP_State_Plate</th>\n",
       "      <th>Plate_Expiry_Date</th>\n",
       "      <th>Make</th>\n",
       "      <th>Body_Style</th>\n",
       "      <th>Color</th>\n",
       "      <th>Location</th>\n",
       "      <th>Route</th>\n",
       "      <th>Agency</th>\n",
       "      <th>Violation_code</th>\n",
       "      <th>Violation_Description</th>\n",
       "      <th>Fine_amount</th>\n",
       "      <th>Latitude</th>\n",
       "      <th>Longitude</th>\n",
       "      <th>top_25_makes</th>\n",
       "      <th>distance_from_la</th>\n",
       "    </tr>\n",
       "  </thead>\n",
       "  <tbody>\n",
       "    <tr>\n",
       "      <th>count</th>\n",
       "      <td>4357535</td>\n",
       "      <td>4.357535e+06</td>\n",
       "      <td>4.357535e+06</td>\n",
       "      <td>4357535</td>\n",
       "      <td>4.357535e+06</td>\n",
       "      <td>4357535</td>\n",
       "      <td>4357535</td>\n",
       "      <td>4357535</td>\n",
       "      <td>4357535</td>\n",
       "      <td>4357535</td>\n",
       "      <td>4357535</td>\n",
       "      <td>4357535</td>\n",
       "      <td>4357535</td>\n",
       "      <td>4.357535e+06</td>\n",
       "      <td>4.357534e+06</td>\n",
       "      <td>4.357534e+06</td>\n",
       "      <td>4357535.0</td>\n",
       "      <td>4.357534e+06</td>\n",
       "    </tr>\n",
       "    <tr>\n",
       "      <th>unique</th>\n",
       "      <td>4357535</td>\n",
       "      <td>NaN</td>\n",
       "      <td>NaN</td>\n",
       "      <td>77</td>\n",
       "      <td>NaN</td>\n",
       "      <td>1477</td>\n",
       "      <td>145</td>\n",
       "      <td>80</td>\n",
       "      <td>1047757</td>\n",
       "      <td>6795</td>\n",
       "      <td>38</td>\n",
       "      <td>282</td>\n",
       "      <td>600</td>\n",
       "      <td>NaN</td>\n",
       "      <td>NaN</td>\n",
       "      <td>NaN</td>\n",
       "      <td>2.0</td>\n",
       "      <td>NaN</td>\n",
       "    </tr>\n",
       "    <tr>\n",
       "      <th>top</th>\n",
       "      <td>4254111606</td>\n",
       "      <td>NaN</td>\n",
       "      <td>NaN</td>\n",
       "      <td>CA</td>\n",
       "      <td>NaN</td>\n",
       "      <td>TOYT</td>\n",
       "      <td>PA</td>\n",
       "      <td>BK</td>\n",
       "      <td>1301 ELECTRIC AVE</td>\n",
       "      <td>00600</td>\n",
       "      <td>54.0</td>\n",
       "      <td>80.69BS</td>\n",
       "      <td>NO PARK/STREET CLEAN</td>\n",
       "      <td>NaN</td>\n",
       "      <td>NaN</td>\n",
       "      <td>NaN</td>\n",
       "      <td>1.0</td>\n",
       "      <td>NaN</td>\n",
       "    </tr>\n",
       "    <tr>\n",
       "      <th>freq</th>\n",
       "      <td>1</td>\n",
       "      <td>NaN</td>\n",
       "      <td>NaN</td>\n",
       "      <td>4059265</td>\n",
       "      <td>NaN</td>\n",
       "      <td>721408</td>\n",
       "      <td>3838155</td>\n",
       "      <td>941513</td>\n",
       "      <td>4868</td>\n",
       "      <td>289346</td>\n",
       "      <td>1073800</td>\n",
       "      <td>1220241</td>\n",
       "      <td>1265282</td>\n",
       "      <td>NaN</td>\n",
       "      <td>NaN</td>\n",
       "      <td>NaN</td>\n",
       "      <td>3986207.0</td>\n",
       "      <td>NaN</td>\n",
       "    </tr>\n",
       "    <tr>\n",
       "      <th>mean</th>\n",
       "      <td>NaN</td>\n",
       "      <td>6.196368e+03</td>\n",
       "      <td>1.203867e+03</td>\n",
       "      <td>NaN</td>\n",
       "      <td>5.166215e+03</td>\n",
       "      <td>NaN</td>\n",
       "      <td>NaN</td>\n",
       "      <td>NaN</td>\n",
       "      <td>NaN</td>\n",
       "      <td>NaN</td>\n",
       "      <td>NaN</td>\n",
       "      <td>NaN</td>\n",
       "      <td>NaN</td>\n",
       "      <td>7.010722e+01</td>\n",
       "      <td>5.503483e+06</td>\n",
       "      <td>1.587399e+06</td>\n",
       "      <td>NaN</td>\n",
       "      <td>1.952555e+02</td>\n",
       "    </tr>\n",
       "    <tr>\n",
       "      <th>std</th>\n",
       "      <td>NaN</td>\n",
       "      <td>4.187181e+02</td>\n",
       "      <td>4.722112e+02</td>\n",
       "      <td>NaN</td>\n",
       "      <td>2.312456e+03</td>\n",
       "      <td>NaN</td>\n",
       "      <td>NaN</td>\n",
       "      <td>NaN</td>\n",
       "      <td>NaN</td>\n",
       "      <td>NaN</td>\n",
       "      <td>NaN</td>\n",
       "      <td>NaN</td>\n",
       "      <td>NaN</td>\n",
       "      <td>3.204427e+01</td>\n",
       "      <td>3.025599e+06</td>\n",
       "      <td>2.098416e+06</td>\n",
       "      <td>NaN</td>\n",
       "      <td>6.966059e+02</td>\n",
       "    </tr>\n",
       "    <tr>\n",
       "      <th>min</th>\n",
       "      <td>NaN</td>\n",
       "      <td>3.661000e+03</td>\n",
       "      <td>0.000000e+00</td>\n",
       "      <td>NaN</td>\n",
       "      <td>-5.478000e+03</td>\n",
       "      <td>NaN</td>\n",
       "      <td>NaN</td>\n",
       "      <td>NaN</td>\n",
       "      <td>NaN</td>\n",
       "      <td>NaN</td>\n",
       "      <td>NaN</td>\n",
       "      <td>NaN</td>\n",
       "      <td>NaN</td>\n",
       "      <td>1.000000e+01</td>\n",
       "      <td>9.999900e+04</td>\n",
       "      <td>9.999900e+04</td>\n",
       "      <td>NaN</td>\n",
       "      <td>1.342646e-02</td>\n",
       "    </tr>\n",
       "    <tr>\n",
       "      <th>25%</th>\n",
       "      <td>NaN</td>\n",
       "      <td>5.836000e+03</td>\n",
       "      <td>9.120000e+02</td>\n",
       "      <td>NaN</td>\n",
       "      <td>5.479000e+03</td>\n",
       "      <td>NaN</td>\n",
       "      <td>NaN</td>\n",
       "      <td>NaN</td>\n",
       "      <td>NaN</td>\n",
       "      <td>NaN</td>\n",
       "      <td>NaN</td>\n",
       "      <td>NaN</td>\n",
       "      <td>NaN</td>\n",
       "      <td>6.300000e+01</td>\n",
       "      <td>6.421523e+06</td>\n",
       "      <td>1.821595e+06</td>\n",
       "      <td>NaN</td>\n",
       "      <td>4.155752e+00</td>\n",
       "    </tr>\n",
       "    <tr>\n",
       "      <th>50%</th>\n",
       "      <td>NaN</td>\n",
       "      <td>6.200000e+03</td>\n",
       "      <td>1.155000e+03</td>\n",
       "      <td>NaN</td>\n",
       "      <td>5.844000e+03</td>\n",
       "      <td>NaN</td>\n",
       "      <td>NaN</td>\n",
       "      <td>NaN</td>\n",
       "      <td>NaN</td>\n",
       "      <td>NaN</td>\n",
       "      <td>NaN</td>\n",
       "      <td>NaN</td>\n",
       "      <td>NaN</td>\n",
       "      <td>6.800000e+01</td>\n",
       "      <td>6.451587e+06</td>\n",
       "      <td>1.841993e+06</td>\n",
       "      <td>NaN</td>\n",
       "      <td>8.073280e+00</td>\n",
       "    </tr>\n",
       "    <tr>\n",
       "      <th>75%</th>\n",
       "      <td>NaN</td>\n",
       "      <td>6.552000e+03</td>\n",
       "      <td>1.511000e+03</td>\n",
       "      <td>NaN</td>\n",
       "      <td>6.575000e+03</td>\n",
       "      <td>NaN</td>\n",
       "      <td>NaN</td>\n",
       "      <td>NaN</td>\n",
       "      <td>NaN</td>\n",
       "      <td>NaN</td>\n",
       "      <td>NaN</td>\n",
       "      <td>NaN</td>\n",
       "      <td>NaN</td>\n",
       "      <td>7.300000e+01</td>\n",
       "      <td>6.475013e+06</td>\n",
       "      <td>1.858208e+06</td>\n",
       "      <td>NaN</td>\n",
       "      <td>1.480336e+01</td>\n",
       "    </tr>\n",
       "    <tr>\n",
       "      <th>max</th>\n",
       "      <td>NaN</td>\n",
       "      <td>6.949000e+03</td>\n",
       "      <td>2.359000e+03</td>\n",
       "      <td>NaN</td>\n",
       "      <td>7.341400e+04</td>\n",
       "      <td>NaN</td>\n",
       "      <td>NaN</td>\n",
       "      <td>NaN</td>\n",
       "      <td>NaN</td>\n",
       "      <td>NaN</td>\n",
       "      <td>NaN</td>\n",
       "      <td>NaN</td>\n",
       "      <td>NaN</td>\n",
       "      <td>5.050000e+02</td>\n",
       "      <td>4.042322e+09</td>\n",
       "      <td>4.042322e+09</td>\n",
       "      <td>NaN</td>\n",
       "      <td>1.081594e+06</td>\n",
       "    </tr>\n",
       "  </tbody>\n",
       "</table>\n",
       "</div>"
      ],
      "text/plain": [
       "       Ticket_number    Issue_Date    Issue_time RP_State_Plate  \\\n",
       "count        4357535  4.357535e+06  4.357535e+06        4357535   \n",
       "unique       4357535           NaN           NaN             77   \n",
       "top       4254111606           NaN           NaN             CA   \n",
       "freq               1           NaN           NaN        4059265   \n",
       "mean             NaN  6.196368e+03  1.203867e+03            NaN   \n",
       "std              NaN  4.187181e+02  4.722112e+02            NaN   \n",
       "min              NaN  3.661000e+03  0.000000e+00            NaN   \n",
       "25%              NaN  5.836000e+03  9.120000e+02            NaN   \n",
       "50%              NaN  6.200000e+03  1.155000e+03            NaN   \n",
       "75%              NaN  6.552000e+03  1.511000e+03            NaN   \n",
       "max              NaN  6.949000e+03  2.359000e+03            NaN   \n",
       "\n",
       "        Plate_Expiry_Date     Make Body_Style    Color           Location  \\\n",
       "count        4.357535e+06  4357535    4357535  4357535            4357535   \n",
       "unique                NaN     1477        145       80            1047757   \n",
       "top                   NaN     TOYT         PA       BK  1301 ELECTRIC AVE   \n",
       "freq                  NaN   721408    3838155   941513               4868   \n",
       "mean         5.166215e+03      NaN        NaN      NaN                NaN   \n",
       "std          2.312456e+03      NaN        NaN      NaN                NaN   \n",
       "min         -5.478000e+03      NaN        NaN      NaN                NaN   \n",
       "25%          5.479000e+03      NaN        NaN      NaN                NaN   \n",
       "50%          5.844000e+03      NaN        NaN      NaN                NaN   \n",
       "75%          6.575000e+03      NaN        NaN      NaN                NaN   \n",
       "max          7.341400e+04      NaN        NaN      NaN                NaN   \n",
       "\n",
       "          Route   Agency Violation_code Violation_Description   Fine_amount  \\\n",
       "count   4357535  4357535        4357535               4357535  4.357535e+06   \n",
       "unique     6795       38            282                   600           NaN   \n",
       "top       00600     54.0        80.69BS  NO PARK/STREET CLEAN           NaN   \n",
       "freq     289346  1073800        1220241               1265282           NaN   \n",
       "mean        NaN      NaN            NaN                   NaN  7.010722e+01   \n",
       "std         NaN      NaN            NaN                   NaN  3.204427e+01   \n",
       "min         NaN      NaN            NaN                   NaN  1.000000e+01   \n",
       "25%         NaN      NaN            NaN                   NaN  6.300000e+01   \n",
       "50%         NaN      NaN            NaN                   NaN  6.800000e+01   \n",
       "75%         NaN      NaN            NaN                   NaN  7.300000e+01   \n",
       "max         NaN      NaN            NaN                   NaN  5.050000e+02   \n",
       "\n",
       "            Latitude     Longitude  top_25_makes  distance_from_la  \n",
       "count   4.357534e+06  4.357534e+06     4357535.0      4.357534e+06  \n",
       "unique           NaN           NaN           2.0               NaN  \n",
       "top              NaN           NaN           1.0               NaN  \n",
       "freq             NaN           NaN     3986207.0               NaN  \n",
       "mean    5.503483e+06  1.587399e+06           NaN      1.952555e+02  \n",
       "std     3.025599e+06  2.098416e+06           NaN      6.966059e+02  \n",
       "min     9.999900e+04  9.999900e+04           NaN      1.342646e-02  \n",
       "25%     6.421523e+06  1.821595e+06           NaN      4.155752e+00  \n",
       "50%     6.451587e+06  1.841993e+06           NaN      8.073280e+00  \n",
       "75%     6.475013e+06  1.858208e+06           NaN      1.480336e+01  \n",
       "max     4.042322e+09  4.042322e+09           NaN      1.081594e+06  "
      ]
     },
     "execution_count": 7,
     "metadata": {},
     "output_type": "execute_result"
    }
   ],
   "source": [
    "citations.describe(include='all')"
   ]
  },
  {
   "cell_type": "code",
   "execution_count": 8,
   "metadata": {},
   "outputs": [
    {
     "name": "stdout",
     "output_type": "stream",
     "text": [
      "RP_State_Plate\n",
      "77\n",
      "Body_Style\n",
      "145\n",
      "Color\n",
      "80\n",
      "Route\n",
      "6795\n",
      "Agency\n",
      "38\n",
      "Violation_code\n",
      "282\n",
      "Violation_Description\n",
      "600\n",
      "Location\n",
      "1047757\n"
     ]
    }
   ],
   "source": [
    "# Check cardinality of categorical variables - all fairly high cardinality\n",
    "for v in categorical_vars:\n",
    "    print(v)\n",
    "    print(len(citations[v].unique()))"
   ]
  },
  {
   "cell_type": "code",
   "execution_count": 9,
   "metadata": {},
   "outputs": [
    {
     "name": "stdout",
     "output_type": "stream",
     "text": [
      "RP_State_Plate\n"
     ]
    },
    {
     "data": {
      "image/png": "[encoded data removed]",
      "text/plain": [
       "<Figure size 432x288 with 1 Axes>"
      ]
     },
     "metadata": {
      "needs_background": "light"
     },
     "output_type": "display_data"
    },
    {
     "name": "stdout",
     "output_type": "stream",
     "text": [
      "Body_Style\n"
     ]
    },
    {
     "data": {
      "image/png": "[encoded data removed]",
      "text/plain": [
       "<Figure size 432x288 with 1 Axes>"
      ]
     },
     "metadata": {
      "needs_background": "light"
     },
     "output_type": "display_data"
    },
    {
     "name": "stdout",
     "output_type": "stream",
     "text": [
      "Color\n"
     ]
    },
    {
     "data": {
      "image/png": "[encoded data removed]",
      "text/plain": [
       "<Figure size 432x288 with 1 Axes>"
      ]
     },
     "metadata": {
      "needs_background": "light"
     },
     "output_type": "display_data"
    },
    {
     "name": "stdout",
     "output_type": "stream",
     "text": [
      "Route\n"
     ]
    },
    {
     "data": {
      "image/png": "[encoded data removed]",
      "text/plain": [
       "<Figure size 432x288 with 1 Axes>"
      ]
     },
     "metadata": {
      "needs_background": "light"
     },
     "output_type": "display_data"
    },
    {
     "name": "stdout",
     "output_type": "stream",
     "text": [
      "Agency\n"
     ]
    },
    {
     "data": {
      "image/png": "[encoded data removed]",
      "text/plain": [
       "<Figure size 432x288 with 1 Axes>"
      ]
     },
     "metadata": {
      "needs_background": "light"
     },
     "output_type": "display_data"
    },
    {
     "name": "stdout",
     "output_type": "stream",
     "text": [
      "Violation_code\n"
     ]
    },
    {
     "data": {
      "image/png": "[encoded data removed]",
      "text/plain": [
       "<Figure size 432x288 with 1 Axes>"
      ]
     },
     "metadata": {
      "needs_background": "light"
     },
     "output_type": "display_data"
    },
    {
     "name": "stdout",
     "output_type": "stream",
     "text": [
      "Violation_Description\n"
     ]
    },
    {
     "data": {
      "image/png": "[encoded data removed]",
      "text/plain": [
       "<Figure size 432x288 with 1 Axes>"
      ]
     },
     "metadata": {
      "needs_background": "light"
     },
     "output_type": "display_data"
    },
    {
     "name": "stdout",
     "output_type": "stream",
     "text": [
      "Location\n"
     ]
    },
    {
     "data": {
      "image/png": "[encoded data removed]",
      "text/plain": [
       "<Figure size 432x288 with 1 Axes>"
      ]
     },
     "metadata": {
      "needs_background": "light"
     },
     "output_type": "display_data"
    }
   ],
   "source": [
    "%matplotlib inline\n",
    "\n",
    "# Check distribution of categorical vars\n",
    "for v in categorical_vars:\n",
    "    print(v)\n",
    "    h = citations[v].value_counts()[:20].plot(kind='bar')\n",
    "    plt.show(h)"
   ]
  },
  {
   "cell_type": "code",
   "execution_count": 10,
   "metadata": {},
   "outputs": [
    {
     "name": "stdout",
     "output_type": "stream",
     "text": [
      "Agency\n",
      "Color\n",
      "Route\n",
      "Violation_code\n",
      "Violation_Description\n",
      "Location\n",
      "Body_Style\n",
      "RP_State_Plate\n"
     ]
    }
   ],
   "source": [
    "# Label-encode all high cardinality categoricals - worked better than one-hot\n",
    "categorical_vars = [\n",
    "    'Agency' , \n",
    "    'Color' ,\n",
    "    'Route' ,\n",
    "    'Violation_code' ,\n",
    "    'Violation_Description' ,\n",
    "    'Location' ,\n",
    "    'Body_Style' ,\n",
    "    'RP_State_Plate'\n",
    "]\n",
    "\n",
    "for v in categorical_vars:\n",
    "    print(v)\n",
    "    le = preprocessing.LabelEncoder()\n",
    "    le.fit(citations[v])\n",
    "    citations[v] = le.transform(citations[v])\n"
   ]
  },
  {
   "cell_type": "code",
   "execution_count": 66,
   "metadata": {},
   "outputs": [],
   "source": [
    "feature_cols = [\n",
    "    'Issue_Date' ,\n",
    "    'Issue_time' ,\n",
    "    'Plate_Expiry_Date' ,\n",
    "    'Color' ,\n",
    "    'Location' ,\n",
    "    'Route' ,\n",
    "    'Agency' ,\n",
    "    'Violation_code' ,\n",
    "    'Violation_Description' ,\n",
    "    'Fine_amount' ,\n",
    "    'Body_Style' ,\n",
    "    'RP_State_Plate' ,\n",
    "    'distance_from_la'\n",
    "] \n",
    "\n",
    "target_cols = [\n",
    "    'top_25_makes' ,\n",
    "]"
   ]
  },
  {
   "cell_type": "code",
   "execution_count": 67,
   "metadata": {},
   "outputs": [],
   "source": [
    "labels = np.array(citations[target_cols])\n",
    "features = np.array(citations[feature_cols])"
   ]
  },
  {
   "cell_type": "code",
   "execution_count": 13,
   "metadata": {},
   "outputs": [
    {
     "name": "stderr",
     "output_type": "stream",
     "text": [
      "/home/ec2-user/grainger_data_science/env/lib/python2.7/site-packages/ipykernel_launcher.py:14: DataConversionWarning: A column-vector y was passed when a 1d array was expected. Please change the shape of y to (n_samples,), for example using ravel().\n",
      "  \n"
     ]
    },
    {
     "data": {
      "text/plain": [
       "RandomForestClassifier(bootstrap=True, class_weight=None, criterion='gini',\n",
       "            max_depth=20, max_features='auto', max_leaf_nodes=None,\n",
       "            min_impurity_decrease=0.0, min_impurity_split=None,\n",
       "            min_samples_leaf=1, min_samples_split=2,\n",
       "            min_weight_fraction_leaf=0.0, n_estimators=100, n_jobs=None,\n",
       "            oob_score=False, random_state=42, verbose=0, warm_start=False)"
      ]
     },
     "execution_count": 13,
     "metadata": {},
     "output_type": "execute_result"
    }
   ],
   "source": [
    "from sklearn.model_selection import train_test_split\n",
    "from sklearn.ensemble import RandomForestClassifier\n",
    "\n",
    "# Train-test split\n",
    "train_features, test_features, train_labels, test_labels = train_test_split(features, labels, test_size = 0.25, random_state = 42)\n",
    "\n",
    "# Instantiate model with 100 decision trees\n",
    "rf = RandomForestClassifier(\n",
    "    n_estimators = 100, \n",
    "    random_state = 42,\n",
    "    max_depth = 20 ,\n",
    ")\n",
    "# Train the model on training data\n",
    "rf.fit(train_features, train_labels)"
   ]
  },
  {
   "cell_type": "code",
   "execution_count": 69,
   "metadata": {},
   "outputs": [
    {
     "data": {
      "text/plain": [
       "0.9239304047057787"
      ]
     },
     "execution_count": 69,
     "metadata": {},
     "output_type": "execute_result"
    }
   ],
   "source": [
    "# Summarize model scores\n",
    "rf.score(test_features, test_labels)"
   ]
  },
  {
   "cell_type": "code",
   "execution_count": 79,
   "metadata": {},
   "outputs": [
    {
     "name": "stdout",
     "output_type": "stream",
     "text": [
      "1    0.914785\n",
      "0    0.085215\n",
      "Name: top_25_makes, dtype: float64\n"
     ]
    }
   ],
   "source": [
    "# Check skew of labels - compare to accuracy when guessing 1\n",
    "split = (citations['top_25_makes'].value_counts()) / citations.shape[0]\n",
    "print(split)"
   ]
  },
  {
   "cell_type": "code",
   "execution_count": 81,
   "metadata": {},
   "outputs": [
    {
     "data": {
      "image/png": "[encoded data removed]",
      "text/plain": [
       "<Figure size 432x288 with 1 Axes>"
      ]
     },
     "metadata": {
      "needs_background": "light"
     },
     "output_type": "display_data"
    }
   ],
   "source": [
    "# Visualize feature importance\n",
    "feature_importance = pd.DataFrame(\n",
    "    rf.feature_importances_ ,\n",
    "    index = feature_cols ,\n",
    "    columns = ['importance'] ,\n",
    ").sort_values('importance',ascending=False)\n",
    "\n",
    "\n",
    "y_pos = np.arange(len(feature_importance.index))\n",
    "\n",
    "fig, ax = plt.subplots()\n",
    "\n",
    "ax.barh(y_pos, feature_importance['importance'], align='center')\n",
    "ax.set_yticks(y_pos)\n",
    "ax.set_yticklabels(feature_importance.index)\n",
    "ax.invert_yaxis()\n",
    "\n",
    "\n",
    "plt.show()"
   ]
  },
  {
   "cell_type": "code",
   "execution_count": 80,
   "metadata": {},
   "outputs": [
    {
     "data": {
      "text/plain": [
       "<matplotlib.axes._subplots.AxesSubplot at 0x7f1dec074a90>"
      ]
     },
     "execution_count": 80,
     "metadata": {},
     "output_type": "execute_result"
    },
    {
     "data": {
      "image/png": "[encoded data removed]",
      "text/plain": [
       "<Figure size 720x504 with 2 Axes>"
      ]
     },
     "metadata": {
      "needs_background": "light"
     },
     "output_type": "display_data"
    }
   ],
   "source": [
    "# Plot confusion matrix\n",
    "from sklearn.metrics import confusion_matrix\n",
    "\n",
    "predictions = rf.predict(test_features)\n",
    "confusion = confusion_matrix(y_true = test_labels, y_pred = predictions)\n",
    "\n",
    "plt.figure(figsize=(10,7))\n",
    "plt.title(\"Confusion Matrix\")\n",
    "sn.heatmap(confusion, annot=True, cmap='Blues', fmt='g')"
   ]
  },
  {
   "cell_type": "code",
   "execution_count": 97,
   "metadata": {},
   "outputs": [
    {
     "name": "stdout",
     "output_type": "stream",
     "text": [
      "Average precision-recall score: 0.93\n"
     ]
    }
   ],
   "source": [
    "# Print mean of precision and recall scores\n",
    "from sklearn.metrics import average_precision_score\n",
    "average_precision = average_precision_score(test_labels, predictions)\n",
    "\n",
    "print('Average precision-recall score: {0:0.2f}'.format(\n",
    "      average_precision))"
   ]
  },
  {
   "cell_type": "code",
   "execution_count": 101,
   "metadata": {},
   "outputs": [
    {
     "data": {
      "text/plain": [
       "Text(0.5,1,'2-class Precision-Recall curve: AP=0.93')"
      ]
     },
     "execution_count": 101,
     "metadata": {},
     "output_type": "execute_result"
    },
    {
     "data": {
      "image/png": "[encoded data removed]",
      "text/plain": [
       "<Figure size 432x288 with 1 Axes>"
      ]
     },
     "metadata": {
      "needs_background": "light"
     },
     "output_type": "display_data"
    }
   ],
   "source": [
    "# Print ROC curve\n",
    "from sklearn.metrics import precision_recall_curve\n",
    "#import matplotlib.pyplot as plt\n",
    "#from inspect import signature\n",
    "\n",
    "precision, recall, _ = precision_recall_curve(test_labels, predictions)\n",
    "\n",
    "# In matplotlib < 1.5, plt.fill_between does not have a 'step' argument\n",
    "#step_kwargs = ({'step': 'post'}\n",
    "#               if 'step' in signature(plt.fill_between).parameters\n",
    "#               else {})\n",
    "#plt.step(recall, precision, color='b', alpha=0.2,\n",
    " #        where='post')\n",
    "plt.fill_between(recall, precision, alpha=0.2, color='b')\n",
    "\n",
    "plt.xlabel('Recall')\n",
    "plt.ylabel('Precision')\n",
    "plt.ylim([0.0, 1.05])\n",
    "plt.xlim([0.0, 1.0])\n",
    "plt.title('2-class Precision-Recall curve: AP={0:0.2f}'.format(\n",
    "          average_precision))"
   ]
  }
 ],
 "metadata": {
  "kernelspec": {
   "display_name": "Python 2",
   "language": "python",
   "name": "python2"
  },
  "language_info": {
   "codemirror_mode": {
    "name": "ipython",
    "version": 2
   },
   "file_extension": ".py",
   "mimetype": "text/x-python",
   "name": "python",
   "nbconvert_exporter": "python",
   "pygments_lexer": "ipython2",
   "version": "2.7.16"
  }
 },
 "nbformat": 4,
 "nbformat_minor": 2
}
