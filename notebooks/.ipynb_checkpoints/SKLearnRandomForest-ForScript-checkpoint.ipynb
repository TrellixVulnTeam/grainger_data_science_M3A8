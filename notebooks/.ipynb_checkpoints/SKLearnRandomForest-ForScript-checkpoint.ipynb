{
 "cells": [
  {
   "cell_type": "code",
   "execution_count": 115,
   "metadata": {},
   "outputs": [],
   "source": [
    "import seaborn as sn\n",
    "import matplotlib\n",
    "import matplotlib.pyplot as plt\n",
    "import pandas as pd\n",
    "import numpy as np\n",
    "import csv\n",
    "from pprint import pprint\n",
    "import random\n",
    "from sklearn import preprocessing\n",
    "from __future__ import division\n",
    "import pickle\n",
    "from pyproj import Proj, transform\n",
    "from math import sqrt \n",
    "\n",
    "# Load data from \"uncorrupted\" part of dataset\n",
    "filename = '../data/parking_citations_uncorrupted.csv'\n",
    "random.seed(42)"
   ]
  },
  {
   "cell_type": "code",
   "execution_count": 34,
   "metadata": {},
   "outputs": [],
   "source": [
    "# Get headers and data types\n",
    "columns = []\n",
    "with open(filename) as f:\n",
    "    reader = csv.reader(f)\n",
    "    columns = reader.next()\n",
    "    \n",
    "names = [col.replace(\" \",\"_\") for col in columns]\n",
    "\n",
    "dtypes = {\n",
    "    'Ticket_number': 'unicode' ,\n",
    "    'Issue_Date': 'unicode' ,\n",
    "    'Issue_Time':'unicode'  ,\n",
    "    'Meter_Id': 'unicode',\n",
    "    'Marked_Time': 'unicode' ,\n",
    "    'RP_State_Plate': 'unicode',\n",
    "    'Plate_Expiry_Date': 'unicode' ,\n",
    "    'VIN': 'unicode' ,\n",
    "    'Make': 'unicode' ,\n",
    "    'Body Style': 'unicode' ,\n",
    "    'Color': 'unicode' ,\n",
    "    'Location': 'unicode' ,\n",
    "    'Route': 'unicode' ,\n",
    "    'Agency': 'unicode' ,\n",
    "    'Violation_Code': 'unicode' ,\n",
    "    'Violation_Description': 'unicode' ,\n",
    "    'Fine_amount': np.float64 ,\n",
    "    'Latitude': np.float64 ,\n",
    "    'Longitude': np.float64 ,\n",
    "}"
   ]
  },
  {
   "cell_type": "code",
   "execution_count": 63,
   "metadata": {},
   "outputs": [],
   "source": [
    "# Load data from file\n",
    "print(\"Reading data from file \" + filename)\n",
    "\n",
    "citations = pd.read_csv(\n",
    "    filename ,\n",
    "    header = 0 ,\n",
    "    names = names ,\n",
    "    dtype = dtypes ,\n",
    ")"
   ]
  },
  {
   "cell_type": "code",
   "execution_count": 65,
   "metadata": {},
   "outputs": [],
   "source": [
    "# Label dataset by top 25 makes\n",
    "top_25_makes = citations.groupby(['Make']).size().sort_values(ascending=False)\n",
    "make_names = set(top_25_makes.index[:25])\n",
    "\n",
    "citations['top_25_makes'] = citations['Make'].apply(lambda x: (x in make_names)*1)\n",
    "citations['top_25_makes'] = citations['top_25_makes'].astype('category')"
   ]
  },
  {
   "cell_type": "code",
   "execution_count": 74,
   "metadata": {},
   "outputs": [
    {
     "name": "stderr",
     "output_type": "stream",
     "text": [
      "/home/ec2-user/grainger_data_science/env/lib/python2.7/site-packages/ipykernel_launcher.py:7: FutureWarning: Passing datetime64-dtype data to TimedeltaIndex is deprecated, will raise a TypeError in a future version\n",
      "  import sys\n",
      "/home/ec2-user/grainger_data_science/env/lib/python2.7/site-packages/ipykernel_launcher.py:8: FutureWarning: Passing datetime64-dtype data to TimedeltaIndex is deprecated, will raise a TypeError in a future version\n",
      "  \n"
     ]
    },
    {
     "name": "stdout",
     "output_type": "stream",
     "text": [
      "RP_State_Plate\n",
      "Body_Style\n",
      "Color\n",
      "Route\n",
      "Agency\n",
      "Violation_code\n",
      "Violation_Description\n",
      "Location\n"
     ]
    }
   ],
   "source": [
    "print(\"Formatting and transforming data\")\n",
    "# Date formatting and coversion to days since epoch\n",
    "citations['Issue_Date'] = pd.to_datetime(citations['Issue_Date'])\n",
    "\n",
    "citations['Plate_Expiry_Date'] = citations['Plate_Expiry_Date'].fillna('')\n",
    "citations['Plate_Expiry_Date'] = pd.to_datetime(citations['Plate_Expiry_Date'].str[:-2], format='%Y%M', errors='coerce')\n",
    "\n",
    "citations['Issue_Date'] = pd.to_timedelta(citations['Issue_Date']).dt.days\n",
    "citations['Plate_Expiry_Date'] = pd.to_timedelta(citations['Plate_Expiry_Date']).fillna(pd.to_timedelta('0 days')).dt.days\n",
    "\n",
    "#min_date = citations['Issue_Date'].min()\n",
    "\n",
    "#citations['Issue_Date'] = citations['Issue_Date'] - min_date\n",
    "#citations['Plate_Expiry_Date'] = citations['Plate_Expiry_Date'] - min_date\n",
    "\n",
    "# Drop vars with too many NA's\n",
    "drop_vars = [\n",
    "    'VIN' ,\n",
    "    'Marked_Time' ,\n",
    "    'Meter_Id'\n",
    "]\n",
    "citations.drop(drop_vars , axis=1, inplace=True)\n",
    "\n",
    "# Fill in nulls for continuous variables\n",
    "citations['Issue_time'] = citations['Issue_time'].fillna(citations['Issue_time'].median())\n",
    "citations['Fine_amount'] = citations['Fine_amount'].fillna(citations['Fine_amount'].median())\n",
    "#citations['Plate_Expiry_Date'] = citations['Plate_Expiry_Date'].fillna(citations['Plate_Expiry_Date'].mode())\n",
    "\n",
    "# Fill in nulls for categorical variables\n",
    "categorical_vars = [\n",
    "    'RP_State_Plate' ,\n",
    "    'Body_Style' ,\n",
    "    'Color' ,\n",
    "    'Route' ,\n",
    "    'Agency' ,\n",
    "    'Violation_code' ,\n",
    "    'Violation_Description' ,\n",
    "    'Location'\n",
    "]\n",
    "\n",
    "for v in categorical_vars:\n",
    "    citations[v] = citations[v].astype('category')\n",
    "    citations[v] = citations[v].fillna(citations[v].mode().values[0])"
   ]
  },
  {
   "cell_type": "code",
   "execution_count": 131,
   "metadata": {},
   "outputs": [],
   "source": [
    "# Convert latitude/longitude into distance from center of LA\n",
    "# Using US Feet Projection, should be Cartesian formula\n",
    "# http://www.earthpoint.us/StatePlane.aspx, (34.0522,-118.2437)\n",
    "la_lat = 6487847\n",
    "la_lon = 1841468\n",
    "\n",
    "citations['distance_from_la'] = ((citations['Latitude'] - la_lat)**2 + (citations['Longitude'] - la_lon)**2).apply(lambda x: sqrt(x))/5280"
   ]
  },
  {
   "cell_type": "code",
   "execution_count": 103,
   "metadata": {
    "collapsed": true
   },
   "outputs": [
    {
     "name": "stderr",
     "output_type": "stream",
     "text": [
      "/home/ec2-user/grainger_data_science/env/lib/python2.7/site-packages/pandas/core/ops.py:1649: FutureWarning: elementwise comparison failed; returning scalar instead, but in the future will perform elementwise comparison\n",
      "  result = method(y)\n"
     ]
    },
    {
     "name": "stdout",
     "output_type": "stream",
     "text": [
      "Agency\n",
      "Color\n",
      "Route\n",
      "Violation_code\n",
      "Violation_Description\n",
      "Location\n",
      "Body_Style\n",
      "RP_State_Plate\n"
     ]
    }
   ],
   "source": [
    "# Label-encode all high cardinality categoricals - worked better than one-hot\n",
    "categorical_vars = [\n",
    "    'Agency' , \n",
    "    'Color' ,\n",
    "    'Route' ,\n",
    "    'Violation_code' ,\n",
    "    'Violation_Description' ,\n",
    "    'Location' ,\n",
    "    'Body_Style' ,\n",
    "    'RP_State_Plate'\n",
    "]\n",
    "\n",
    "for v in categorical_vars:\n",
    "    le = preprocessing.LabelEncoder()\n",
    "    le.fit(citations[v])\n",
    "    citations[v] = le.transform(citations[v])\n"
   ]
  },
  {
   "cell_type": "code",
   "execution_count": 179,
   "metadata": {},
   "outputs": [],
   "source": [
    "feature_cols = [\n",
    "    'Issue_Date' ,\n",
    "    'Issue_time' ,\n",
    "    'Plate_Expiry_Date' ,\n",
    "    'Color' ,\n",
    "    'Location' ,\n",
    "    'Route' ,\n",
    "    'Agency' ,\n",
    "    'Violation_code' ,\n",
    "    'Violation_Description' ,\n",
    "    'Fine_amount' ,\n",
    "    'Body_Style' ,\n",
    "    'RP_State_Plate' ,\n",
    "    'distance_from_la'\n",
    "] \n",
    "\n",
    "target_cols = [\n",
    "    'top_25_makes' ,\n",
    "]"
   ]
  },
  {
   "cell_type": "code",
   "execution_count": 172,
   "metadata": {},
   "outputs": [],
   "source": [
    "labels = np.array(citations[target_cols])\n",
    "features = np.array(citations[feature_cols])\n"
   ]
  },
  {
   "cell_type": "code",
   "execution_count": 177,
   "metadata": {
    "scrolled": true
   },
   "outputs": [
    {
     "name": "stderr",
     "output_type": "stream",
     "text": [
      "/home/ec2-user/grainger_data_science/env/lib/python2.7/site-packages/ipykernel_launcher.py:13: DataConversionWarning: A column-vector y was passed when a 1d array was expected. Please change the shape of y to (n_samples,), for example using ravel().\n",
      "  del sys.path[0]\n"
     ]
    },
    {
     "data": {
      "text/plain": [
       "RandomForestClassifier(bootstrap=True, class_weight=None, criterion='gini',\n",
       "            max_depth=20, max_features='auto', max_leaf_nodes=None,\n",
       "            min_impurity_decrease=0.0, min_impurity_split=None,\n",
       "            min_samples_leaf=1, min_samples_split=2,\n",
       "            min_weight_fraction_leaf=0.0, n_estimators=500, n_jobs=None,\n",
       "            oob_score=False, random_state=42, verbose=0, warm_start=False)"
      ]
     },
     "execution_count": 177,
     "metadata": {},
     "output_type": "execute_result"
    }
   ],
   "source": [
    "print(\"Training Model\")\n",
    "\n",
    "from sklearn.model_selection import train_test_split\n",
    "from sklearn.ensemble import RandomForestClassifier\n",
    "\n",
    "# Train-test split\n",
    "train_features, test_features, train_labels, test_labels = train_test_split(features, labels, test_size = 0.25, random_state = 42)\n",
    "\n",
    "# Instantiate model with 100 decision trees\n",
    "rf = RandomForestClassifier(\n",
    "    n_estimators = 100, \n",
    "    random_state = 42,\n",
    "    max_depth = 20 ,\n",
    ")\n",
    "# Train the model on training data\n",
    "rf.fit(train_features, train_labels)"
   ]
  },
  {
   "cell_type": "code",
   "execution_count": null,
   "metadata": {},
   "outputs": [],
   "source": [
    "print(\"Saving Model\")\n",
    "\n",
    "with open('../app/models/random_forest_classifier.pkl' ,'wb') as f:\n",
    "    pickle.dump(rf, f)"
   ]
  },
  {
   "cell_type": "code",
   "execution_count": null,
   "metadata": {},
   "outputs": [],
   "source": []
  }
 ],
 "metadata": {
  "kernelspec": {
   "display_name": "Python 2",
   "language": "python",
   "name": "python2"
  },
  "language_info": {
   "codemirror_mode": {
    "name": "ipython",
    "version": 2
   },
   "file_extension": ".py",
   "mimetype": "text/x-python",
   "name": "python",
   "nbconvert_exporter": "python",
   "pygments_lexer": "ipython2",
   "version": "2.7.16"
  }
 },
 "nbformat": 4,
 "nbformat_minor": 2
}
