{
 "cells": [
  {
   "cell_type": "code",
   "execution_count": 2,
   "metadata": {},
   "outputs": [],
   "source": [
    "import csv, sqlite3\n",
    "import timeit\n",
    "import numpy as np\n"
   ]
  },
  {
   "cell_type": "code",
   "execution_count": 3,
   "metadata": {},
   "outputs": [],
   "source": [
    "#%%timeit -n 5 -r 1\n",
    "\n",
    "# Create the sqlite table in memory\n",
    "con = sqlite3.connect(\":memory:\")\n",
    "cur = con.cursor()\n",
    "\n",
    "cur.execute(\"DROP TABLE IF EXISTS parking_citations ;\")\n",
    "\n",
    "cur.execute(\"\"\"\n",
    "    CREATE TABLE parking_citations (\n",
    "        ticket_number VARCHAR(11)  ,\n",
    "        issue_date DATE ,\n",
    "        issue_time FLOAT ,\n",
    "        meter_id VARCHAR(9) ,\n",
    "        marked_time FLOAT ,\n",
    "        rp_state_plate  VARCHAR(2) ,\n",
    "        plate_expiry_date  DATE ,\n",
    "        VIN  VARCHAR(17) ,\n",
    "        make VARCHAR(5) ,\n",
    "        body_style VARCHAR(2) ,\n",
    "        color VARCHAR(2) ,\n",
    "        location VARCHAR(35) ,\n",
    "        route VARCHAR(5) ,\n",
    "        agency VARCHAR(4),\n",
    "        violation_code VARCHAR(9) ,\n",
    "        violation_description VARCHAR(35) ,\n",
    "        fine_amount FLOAT ,\n",
    "        latitude FLOAT ,\n",
    "        longitude FLOAT\n",
    "    ) ;\n",
    "\"\"\")\n",
    "\n",
    "with open('../data/parking_citations_uncorrupted.csv','r') as f:\n",
    "    reader = csv.reader(f)\n",
    "    for row in reader:\n",
    "        cur.execute(\"\"\"INSERT INTO parking_citations (\n",
    "            ticket_number,\n",
    "            issue_date ,\n",
    "            issue_time ,\n",
    "            meter_id ,\n",
    "            marked_time ,\n",
    "            rp_state_plate ,\n",
    "            plate_expiry_date ,\n",
    "            VIN ,\n",
    "            make ,\n",
    "            body_style ,\n",
    "            color ,\n",
    "            location ,\n",
    "            route ,\n",
    "            agency ,\n",
    "            violation_code ,\n",
    "            violation_description ,\n",
    "            fine_amount ,\n",
    "            latitude ,\n",
    "            longitude\n",
    "        ) VALUES (\n",
    "            ? , ? , ? , ? , ? ,\n",
    "            ? , ? , ? , ? , ? ,\n",
    "            ? , ? , ? , ? , ? ,\n",
    "            ? , ? , ? , ?\n",
    "        )\"\"\",row)\n",
    "        \n",
    "con.commit()"
   ]
  },
  {
   "cell_type": "code",
   "execution_count": 13,
   "metadata": {},
   "outputs": [
    {
     "name": "stdout",
     "output_type": "stream",
     "text": [
      "5 loops, best of 1: 9.79 s per loop\n"
     ]
    }
   ],
   "source": [
    "%%timeit -n 5 -r 1\n",
    "\n",
    "# Top 25 most common makes\n",
    "cur.execute(\"\"\"\n",
    "    SELECT\n",
    "        make\n",
    "        ,COUNT(ticket_number) as count\n",
    "    FROM\n",
    "        parking_citations\n",
    "    GROUP BY make\n",
    "    ORDER BY count DESC\n",
    "    LIMIT 25\n",
    "\"\"\")"
   ]
  },
  {
   "cell_type": "code",
   "execution_count": 4,
   "metadata": {},
   "outputs": [
    {
     "name": "stdout",
     "output_type": "stream",
     "text": [
      "5 loops, best of 1: 12.3 s per loop\n"
     ]
    }
   ],
   "source": [
    "%%timeit -n 5 -r 1\n",
    "\n",
    "# Most common color for each Make\n",
    "cur.execute(\"\"\"\n",
    "    SELECT\n",
    "        make,\n",
    "        color,\n",
    "        car_count\n",
    "    FROM\n",
    "    (\n",
    "    SELECT \n",
    "        make,\n",
    "        color,\n",
    "        count(ticket_number) as car_count\n",
    "    FROM \n",
    "        parking_citations\n",
    "    GROUP BY make,color\n",
    "    ) a \n",
    "    GROUP BY make\n",
    "    HAVING car_count = MAX(car_count)\n",
    "\"\"\")"
   ]
  },
  {
   "cell_type": "code",
   "execution_count": 16,
   "metadata": {},
   "outputs": [
    {
     "name": "stdout",
     "output_type": "stream",
     "text": [
      "5 loops, best of 1: 8.52 s per loop\n"
     ]
    }
   ],
   "source": [
    "%%timeit -n 5 -r 1\n",
    "\n",
    "# First ticket issued for each make\n",
    "cur.execute(\"\"\"\n",
    "    SELECT\n",
    "        make\n",
    "        ,ticket_number\n",
    "    FROM \n",
    "        parking_citations\n",
    "    GROUP BY make \n",
    "    HAVING issue_date = min(issue_date)\n",
    "\"\"\")"
   ]
  },
  {
   "cell_type": "markdown",
   "metadata": {},
   "source": [
    "# Record results for comparison with Pandas"
   ]
  },
  {
   "cell_type": "code",
   "execution_count": 26,
   "metadata": {},
   "outputs": [
    {
     "name": "stdout",
     "output_type": "stream",
     "text": [
      "[(u'TOYT', 721408), (u'HOND', 491961), (u'FORD', 382694), (u'NISS', 311324), (u'CHEV', 297075), (u'BMW', 199221), (u'MERZ', 177307), (u'VOLK', 149501), (u'HYUN', 133864), (u'DODG', 127764), (u'LEXS', 124507), (u'KIA', 101746), (u'JEEP', 100909), (u'AUDI', 84228), (u'MAZD', 79853), (u'OTHR', 72411), (u'GMC', 62391), (u'CHRY', 57317), (u'INFI', 56809), (u'ACUR', 52703)]\n"
     ]
    }
   ],
   "source": [
    "res = cur.execute(\"\"\"\n",
    "    SELECT\n",
    "        make\n",
    "        ,COUNT(ticket_number) as count\n",
    "    FROM\n",
    "        parking_citations\n",
    "    GROUP BY make\n",
    "    ORDER BY count DESC\n",
    "    LIMIT 25\n",
    "\"\"\")\n",
    "\n",
    "print(res.fetchmany(20))"
   ]
  },
  {
   "cell_type": "code",
   "execution_count": 5,
   "metadata": {},
   "outputs": [
    {
     "name": "stdout",
     "output_type": "stream",
     "text": [
      "[(u'AAUD', u'BK', 1), (u'AAVH', u'WH', 2), (u'ABAR', u'BK', 3), (u'ABC', u'WH', 3), (u'ABRI', u'GY', 1), (u'ACC', u'GY', 1), (u'ACCR', u'GR', 1), (u'ACCU', u'BK', 3), (u'ACDI', u'BK', 1), (u'ACG', u'WH', 2), (u'ACOR', u'GY', 1), (u'ACRA', u'BK', 4), (u'ACRU', u'BK', 1), (u'ACU', u'BK', 10), (u'ACUA', u'SI', 1), (u'ACUR', u'BK', 13041), (u'ADIA', u'WH', 1), (u'ADVE', u'BL', 1), (u'AERO', u'WH', 1), (u'AFLA', u'RE', 1)]\n"
     ]
    }
   ],
   "source": [
    "res = cur.execute(\"\"\"\n",
    "    SELECT\n",
    "        make,\n",
    "        color,\n",
    "        car_count\n",
    "    FROM\n",
    "    (\n",
    "    SELECT \n",
    "        make,\n",
    "        color,\n",
    "        count(ticket_number) as car_count\n",
    "    FROM \n",
    "        parking_citations\n",
    "    GROUP BY make,color\n",
    "    ) a \n",
    "    GROUP BY make\n",
    "    HAVING car_count = MAX(car_count)\n",
    "\"\"\")\n",
    "\n",
    "print(res.fetchmany(20))"
   ]
  },
  {
   "cell_type": "code",
   "execution_count": 28,
   "metadata": {},
   "outputs": [
    {
     "name": "stdout",
     "output_type": "stream",
     "text": [
      "[(u'AAUD', u'1125434741'), (u'AAVH', u'1120968203'), (u'ABAR', u'1112298272'), (u'ABC', u'1112208086'), (u'ABRI', u'1110238570'), (u'ACC', u'1109923496'), (u'ACCR', u'1108790325'), (u'ACCU', u'1107505674D'), (u'ACDI', u'1122686725'), (u'ACG', u'1114109032'), (u'ACOR', u'1120736691'), (u'ACRA', u'1112332524'), (u'ACRU', u'1125964932'), (u'ACU', u'1105785004'), (u'ACUA', u'1115232016'), (u'ACUR', u'1112627854'), (u'ADIA', u'1110311930'), (u'ADVE', u'1112752270'), (u'AERO', u'1112489851'), (u'AFLA', u'1115855915')]\n"
     ]
    }
   ],
   "source": [
    "res = cur.execute(\"\"\"\n",
    "    SELECT\n",
    "        make\n",
    "        ,ticket_number\n",
    "    FROM \n",
    "        parking_citations\n",
    "    GROUP BY make \n",
    "    HAVING issue_date = min(issue_date)\n",
    "\"\"\")\n",
    "\n",
    "print(res.fetchmany(20))"
   ]
  },
  {
   "cell_type": "code",
   "execution_count": null,
   "metadata": {},
   "outputs": [],
   "source": []
  }
 ],
 "metadata": {
  "kernelspec": {
   "display_name": "Python 2",
   "language": "python",
   "name": "python2"
  },
  "language_info": {
   "codemirror_mode": {
    "name": "ipython",
    "version": 2
   },
   "file_extension": ".py",
   "mimetype": "text/x-python",
   "name": "python",
   "nbconvert_exporter": "python",
   "pygments_lexer": "ipython2",
   "version": "2.7.16"
  }
 },
 "nbformat": 4,
 "nbformat_minor": 2
}
