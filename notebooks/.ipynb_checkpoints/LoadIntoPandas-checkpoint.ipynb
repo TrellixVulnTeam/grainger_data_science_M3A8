{
 "cells": [
  {
   "cell_type": "code",
   "execution_count": 1,
   "metadata": {},
   "outputs": [],
   "source": [
    "import seaborn as sn\n",
    "import matplotlib\n",
    "import matplotlib.pyplot as plt\n",
    "import pandas as pd\n",
    "import numpy as np\n",
    "import csv\n",
    "from pprint import pprint\n",
    "import random\n",
    "from sklearn import preprocessing\n",
    "from __future__ import division\n",
    "import pickle\n",
    "from datetime import datetime\n",
    "\n",
    "\n",
    "filename = '../data/parking_citations_uncorrupted.csv'\n",
    "random.seed(42)"
   ]
  },
  {
   "cell_type": "code",
   "execution_count": 2,
   "metadata": {},
   "outputs": [],
   "source": [
    "# Get headers and data types\n",
    "columns = []\n",
    "with open(filename) as f:\n",
    "    reader = csv.reader(f)\n",
    "    columns = reader.next()\n",
    "    \n",
    "names = [col.replace(\" \",\"_\") for col in columns]\n",
    "\n",
    "dtypes = {\n",
    "    'Ticket_number': 'unicode' ,\n",
    "    'Issue_Date': 'unicode' ,\n",
    "    'Issue_Time': np.float64  ,\n",
    "    'Meter_Id': 'unicode',\n",
    "    'Marked_Time': np.float64 ,\n",
    "    'RP_State_Plate': 'unicode',\n",
    "    'Plate_Expiry_Date': 'unicode' ,\n",
    "    'VIN': 'unicode' ,\n",
    "    'Make': 'unicode' ,\n",
    "    'Body Style': 'unicode' ,\n",
    "    'Color': 'unicode' ,\n",
    "    'Location': 'unicode' ,\n",
    "    'Route': 'unicode' ,\n",
    "    'Agency': 'unicode' ,\n",
    "    'Violation_Code': 'unicode' ,\n",
    "    'Violation_Description': 'unicode' ,\n",
    "    'Fine_amount': np.float64 ,\n",
    "    'Latitude': np.float64 ,\n",
    "    'Longitude': np.float64 ,\n",
    "}\n"
   ]
  },
  {
   "cell_type": "code",
   "execution_count": 4,
   "metadata": {},
   "outputs": [],
   "source": [
    "#%%timeit -n 5 -r 1\n",
    "\n",
    "# Load data from file\n",
    "citations = pd.read_csv(\n",
    "    filename ,\n",
    "    header = 0 ,\n",
    "    names = names ,\n",
    "    dtype = dtypes ,\n",
    "    #parse_dates = parse_dates ,\n",
    ")"
   ]
  },
  {
   "cell_type": "code",
   "execution_count": 5,
   "metadata": {},
   "outputs": [],
   "source": [
    "citations['Issue_Date'] = pd.to_datetime(citations['Issue_Date'])\n",
    "\n",
    "citations['Plate_Expiry_Date'] = citations['Plate_Expiry_Date'].fillna('')\n",
    "citations['Plate_Expiry_Date'] = pd.to_datetime(citations['Plate_Expiry_Date'].str[:-2], format='%Y%M', errors='coerce')"
   ]
  },
  {
   "cell_type": "code",
   "execution_count": 6,
   "metadata": {},
   "outputs": [
    {
     "name": "stdout",
     "output_type": "stream",
     "text": [
      "5 loops, best of 1: 202 ms per loop\n"
     ]
    }
   ],
   "source": [
    "%%timeit -n 5 -r 1\n",
    "\n",
    "# Top 25 makes\n",
    "top_25_makes = citations.groupby(['Make']).size().sort_values(ascending=False)[:25]"
   ]
  },
  {
   "cell_type": "code",
   "execution_count": 13,
   "metadata": {},
   "outputs": [
    {
     "name": "stdout",
     "output_type": "stream",
     "text": [
      "5 loops, best of 1: 859 ms per loop\n"
     ]
    }
   ],
   "source": [
    "%%timeit -n 5 -r 1\n",
    "\n",
    "# Most common color for each make\n",
    "most_common_color = pd.DataFrame(citations.groupby(['Make','Color']).size())#.sort_values(ascending = False)\n",
    "most_common_color = most_common_color.reset_index(level='Make').groupby(['Make'])[0].idxmax()"
   ]
  },
  {
   "cell_type": "code",
   "execution_count": 11,
   "metadata": {},
   "outputs": [
    {
     "name": "stdout",
     "output_type": "stream",
     "text": [
      "5 loops, best of 1: 748 ms per loop\n"
     ]
    }
   ],
   "source": [
    "%%timeit -n 5 -r 1\n",
    "\n",
    "# First ticket issued for each make\n",
    "first_ticket_issued = citations.groupby(['Make'])['Issue_Date'].idxmin()\n",
    "first_ticket_issued = citations.loc[first_ticket_issued.values][['Make','Ticket_number']]"
   ]
  },
  {
   "cell_type": "code",
   "execution_count": 24,
   "metadata": {},
   "outputs": [
    {
     "name": "stdout",
     "output_type": "stream",
     "text": [
      "0.574891225526\n",
      "0.609997203871\n",
      "CPU times: user 2.57 s, sys: 579 ms, total: 3.14 s\n",
      "Wall time: 3.14 s\n"
     ]
    }
   ],
   "source": [
    "# is out of state license more likely to be expired than in-state?\n",
    "citations = citations[citations['Plate_Expiry_Date'].notnull()]\n",
    "\n",
    "oos_expired = citations[(citations['RP_State_Plate'] != 'CA') & (citations['Plate_Expiry_Date'] < citations['Issue_Date'])].shape[0]\n",
    "oos_total = citations[(citations['RP_State_Plate'] != 'CA')].shape[0]\n",
    "oos_prb = oos_expired / oos_total\n",
    "print(oos_prb)\n",
    "\n",
    "is_expired = citations[(citations['RP_State_Plate'] == 'CA') & (citations['Plate_Expiry_Date'] < citations['Issue_Date'])].shape[0]\n",
    "is_total = citations[(citations['RP_State_Plate'] == 'CA')].shape[0]\n",
    "is_prb = is_expired / is_total\n",
    "print(is_prb)"
   ]
  },
  {
   "cell_type": "markdown",
   "metadata": {},
   "source": [
    "Out of state probability: 0.574891225526\n",
    "In state probability: 0.609997203871\n",
    "    \n",
    "Conclusion:  Out of state plates are not more likely to be expired when ticketed than in-state plates."
   ]
  }
 ],
 "metadata": {
  "kernelspec": {
   "display_name": "Python 2",
   "language": "python",
   "name": "python2"
  },
  "language_info": {
   "codemirror_mode": {
    "name": "ipython",
    "version": 2
   },
   "file_extension": ".py",
   "mimetype": "text/x-python",
   "name": "python",
   "nbconvert_exporter": "python",
   "pygments_lexer": "ipython2",
   "version": "2.7.16"
  }
 },
 "nbformat": 4,
 "nbformat_minor": 2
}
