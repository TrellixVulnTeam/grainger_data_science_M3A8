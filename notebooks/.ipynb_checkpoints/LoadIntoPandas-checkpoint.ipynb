{
 "cells": [
  {
   "cell_type": "code",
   "execution_count": 1,
   "metadata": {},
   "outputs": [],
   "source": [
    "import seaborn as sn\n",
    "import matplotlib\n",
    "import matplotlib.pyplot as plt\n",
    "import pandas as pd\n",
    "import numpy as np\n",
    "import csv\n",
    "from pprint import pprint\n",
    "import random\n",
    "from sklearn import preprocessing\n",
    "from __future__ import division\n",
    "import pickle\n",
    "from datetime import datetime\n",
    "\n",
    "\n",
    "filename = '../data/parking_citations_uncorrupted.csv'\n",
    "random.seed(42)"
   ]
  },
  {
   "cell_type": "code",
   "execution_count": 2,
   "metadata": {},
   "outputs": [],
   "source": [
    "# Get headers and data types\n",
    "columns = []\n",
    "with open(filename) as f:\n",
    "    reader = csv.reader(f)\n",
    "    columns = reader.next()\n",
    "    \n",
    "names = [col.replace(\" \",\"_\") for col in columns]\n",
    "\n",
    "dtypes = {\n",
    "    'Ticket_number': 'unicode' ,\n",
    "    'Issue_Date': 'unicode' ,\n",
    "    'Issue_Time': np.float64  ,\n",
    "    'Meter_Id': 'unicode',\n",
    "    'Marked_Time': np.float64 ,\n",
    "    'RP_State_Plate': 'unicode',\n",
    "    'Plate_Expiry_Date': 'unicode' ,\n",
    "    'VIN': 'unicode' ,\n",
    "    'Make': 'unicode' ,\n",
    "    'Body Style': 'unicode' ,\n",
    "    'Color': 'unicode' ,\n",
    "    'Location': 'unicode' ,\n",
    "    'Route': 'unicode' ,\n",
    "    'Agency': 'unicode' ,\n",
    "    'Violation_Code': 'unicode' ,\n",
    "    'Violation_Description': 'unicode' ,\n",
    "    'Fine_amount': np.float64 ,\n",
    "    'Latitude': np.float64 ,\n",
    "    'Longitude': np.float64 ,\n",
    "}\n"
   ]
  },
  {
   "cell_type": "code",
   "execution_count": 3,
   "metadata": {},
   "outputs": [],
   "source": [
    "#%%timeit -n 5 -r 1\n",
    "\n",
    "# Load data from file\n",
    "citations = pd.read_csv(\n",
    "    filename ,\n",
    "    header = 0 ,\n",
    "    names = names ,\n",
    "    dtype = dtypes ,\n",
    "    #parse_dates = parse_dates ,\n",
    ")"
   ]
  },
  {
   "cell_type": "code",
   "execution_count": 17,
   "metadata": {},
   "outputs": [],
   "source": [
    "# parse dates\n",
    "citations['Issue_Date'] = pd.to_datetime(citations['Issue_Date'])\n",
    "\n",
    "citations['Plate_Expiry_Date'] = citations['Plate_Expiry_Date'].fillna('')\n",
    "citations['Plate_Expiry_Date'] = pd.to_datetime(citations['Plate_Expiry_Date'].str[:-2], format='%Y%m', errors='coerce')"
   ]
  },
  {
   "cell_type": "code",
   "execution_count": 6,
   "metadata": {},
   "outputs": [
    {
     "name": "stdout",
     "output_type": "stream",
     "text": [
      "5 loops, best of 1: 202 ms per loop\n"
     ]
    }
   ],
   "source": [
    "%%timeit -n 5 -r 1\n",
    "\n",
    "# Top 25 makes\n",
    "top_25_makes = citations.groupby(['Make']).size().sort_values(ascending=False)[:25]"
   ]
  },
  {
   "cell_type": "code",
   "execution_count": 13,
   "metadata": {},
   "outputs": [
    {
     "name": "stdout",
     "output_type": "stream",
     "text": [
      "5 loops, best of 1: 859 ms per loop\n"
     ]
    }
   ],
   "source": [
    "%%timeit -n 5 -r 1\n",
    "\n",
    "# Most common color for each make\n",
    "most_common_color = pd.DataFrame(citations.groupby(['Make','Color']).size())#.sort_values(ascending = False)\n",
    "most_common_color = most_common_color.reset_index(level='Make').groupby(['Make'])[0].idxmax()"
   ]
  },
  {
   "cell_type": "code",
   "execution_count": 11,
   "metadata": {},
   "outputs": [
    {
     "name": "stdout",
     "output_type": "stream",
     "text": [
      "5 loops, best of 1: 748 ms per loop\n"
     ]
    }
   ],
   "source": [
    "%%timeit -n 5 -r 1\n",
    "\n",
    "# First ticket issued for each make\n",
    "first_ticket_issued = citations.groupby(['Make'])['Issue_Date'].idxmin()\n",
    "first_ticket_issued = citations.loc[first_ticket_issued.values][['Make','Ticket_number']]"
   ]
  },
  {
   "cell_type": "code",
   "execution_count": 25,
   "metadata": {
    "collapsed": true
   },
   "outputs": [
    {
     "name": "stdout",
     "output_type": "stream",
     "text": [
      "693162\n",
      "693162\n"
     ]
    },
    {
     "data": {
      "text/html": [
       "<div>\n",
       "<style scoped>\n",
       "    .dataframe tbody tr th:only-of-type {\n",
       "        vertical-align: middle;\n",
       "    }\n",
       "\n",
       "    .dataframe tbody tr th {\n",
       "        vertical-align: top;\n",
       "    }\n",
       "\n",
       "    .dataframe thead th {\n",
       "        text-align: right;\n",
       "    }\n",
       "</style>\n",
       "<table border=\"1\" class=\"dataframe\">\n",
       "  <thead>\n",
       "    <tr style=\"text-align: right;\">\n",
       "      <th></th>\n",
       "      <th>Plate_Expiry_Date</th>\n",
       "      <th>Plate_Expiry_Date_Orig</th>\n",
       "      <th>Issue_Date</th>\n",
       "      <th>expired</th>\n",
       "    </tr>\n",
       "  </thead>\n",
       "  <tbody>\n",
       "    <tr>\n",
       "      <th>0</th>\n",
       "      <td>NaT</td>\n",
       "      <td>200316.0</td>\n",
       "      <td>2015-09-15</td>\n",
       "      <td>False</td>\n",
       "    </tr>\n",
       "    <tr>\n",
       "      <th>5</th>\n",
       "      <td>NaT</td>\n",
       "      <td></td>\n",
       "      <td>2015-09-16</td>\n",
       "      <td>False</td>\n",
       "    </tr>\n",
       "    <tr>\n",
       "      <th>17</th>\n",
       "      <td>NaT</td>\n",
       "      <td></td>\n",
       "      <td>2015-12-26</td>\n",
       "      <td>False</td>\n",
       "    </tr>\n",
       "    <tr>\n",
       "      <th>82</th>\n",
       "      <td>NaT</td>\n",
       "      <td></td>\n",
       "      <td>2015-12-21</td>\n",
       "      <td>False</td>\n",
       "    </tr>\n",
       "    <tr>\n",
       "      <th>86</th>\n",
       "      <td>NaT</td>\n",
       "      <td></td>\n",
       "      <td>2015-12-15</td>\n",
       "      <td>False</td>\n",
       "    </tr>\n",
       "  </tbody>\n",
       "</table>\n",
       "</div>"
      ],
      "text/plain": [
       "   Plate_Expiry_Date Plate_Expiry_Date_Orig Issue_Date  expired\n",
       "0                NaT               200316.0 2015-09-15    False\n",
       "5                NaT                        2015-09-16    False\n",
       "17               NaT                        2015-12-26    False\n",
       "82               NaT                        2015-12-21    False\n",
       "86               NaT                        2015-12-15    False"
      ]
     },
     "execution_count": 25,
     "metadata": {},
     "output_type": "execute_result"
    }
   ],
   "source": [
    "# check nulls of plate expiry date\n",
    "print citations['Plate_Expiry_Date'].isnull().sum()\n",
    "print citations['Plate_Expiry_Date_Parsed'].isnull().sum()\n",
    "\n",
    "citations[['Plate_Expiry_Date','Plate_Expiry_Date_Orig','Issue_Date','expired']][citations['Plate_Expiry_Date'].isnull()].head()"
   ]
  },
  {
   "cell_type": "code",
   "execution_count": 31,
   "metadata": {},
   "outputs": [
    {
     "name": "stdout",
     "output_type": "stream",
     "text": [
      "0.220682501481\n",
      "0.234497372744\n",
      "0.219798483794\n"
     ]
    }
   ],
   "source": [
    "# is out of state license more likely to be expired than in-state?\n",
    "citations = citations[citations['Plate_Expiry_Date'].notnull()]\n",
    "\n",
    "# capture overall probability of expiry for testing\n",
    "expired = citations[citations['Plate_Expiry_Date'] < citations['Issue_Date']].shape[0]\n",
    "total = citations.shape[0]\n",
    "prb = expired / total\n",
    "print(prb)\n",
    "\n",
    "oos_expired = citations[(citations['RP_State_Plate'] != 'CA') & (citations['Plate_Expiry_Date'] < citations['Issue_Date'])].shape[0]\n",
    "oos_total = citations[(citations['RP_State_Plate'] != 'CA')].shape[0]\n",
    "oos_prb = oos_expired / oos_total\n",
    "print(oos_prb)\n",
    "\n",
    "is_expired = citations[(citations['RP_State_Plate'] == 'CA') & (citations['Plate_Expiry_Date'] < citations['Issue_Date'])].shape[0]\n",
    "is_total = citations[(citations['RP_State_Plate'] == 'CA')].shape[0]\n",
    "is_prb = is_expired / is_total\n",
    "print(is_prb)"
   ]
  },
  {
   "cell_type": "markdown",
   "metadata": {},
   "source": [
    "Out of state probability: 0.234497372744\n",
    "In state probability: 0.219798483794"
   ]
  },
  {
   "cell_type": "code",
   "execution_count": 66,
   "metadata": {},
   "outputs": [
    {
     "name": "stdout",
     "output_type": "stream",
     "text": [
      "16.1310475927\n",
      "0.0\n"
     ]
    }
   ],
   "source": [
    "# test whether probabilities are different\n",
    "# TS = (oos_prb - is_prb) / sqrt( (prb)(1-prb)*( (1/oos_total) + (1/is_total) ) )\n",
    "\n",
    "from math import sqrt\n",
    "import scipy.stats as st\n",
    "\n",
    "# calculate z-stat\n",
    "numerator = (oos_prb - is_prb)\n",
    "denominator = sqrt(((prb)*(1-prb)) * ((1/oos_total)+(1/is_total)))\n",
    "z_stat = numerator / denominator\n",
    "print(z_stat)\n",
    "\n",
    "# calculate p-stat\n",
    "p_stat = st.norm.cdf(z_stat)\n",
    "print(1-p_stat)"
   ]
  },
  {
   "cell_type": "code",
   "execution_count": null,
   "metadata": {},
   "outputs": [],
   "source": []
  }
 ],
 "metadata": {
  "kernelspec": {
   "display_name": "Python 2",
   "language": "python",
   "name": "python2"
  },
  "language_info": {
   "codemirror_mode": {
    "name": "ipython",
    "version": 2
   },
   "file_extension": ".py",
   "mimetype": "text/x-python",
   "name": "python",
   "nbconvert_exporter": "python",
   "pygments_lexer": "ipython2",
   "version": "2.7.16"
  }
 },
 "nbformat": 4,
 "nbformat_minor": 2
}
