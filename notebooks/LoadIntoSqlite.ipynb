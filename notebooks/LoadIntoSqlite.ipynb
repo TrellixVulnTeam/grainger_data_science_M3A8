{
 "cells": [
  {
   "cell_type": "code",
   "execution_count": 1,
   "metadata": {},
   "outputs": [],
   "source": [
    "import csv, sqlite3"
   ]
  },
  {
   "cell_type": "code",
   "execution_count": 5,
   "metadata": {},
   "outputs": [
    {
     "name": "stdout",
     "output_type": "stream",
     "text": [
      "CPU times: user 32.9 s, sys: 236 ms, total: 33.1 s\n",
      "Wall time: 33.1 s\n"
     ]
    }
   ],
   "source": [
    "%%time\n",
    "\n",
    "# Create the sqlite table in memory\n",
    "con = sqlite3.connect(\":memory:\")\n",
    "cur = con.cursor()\n",
    "\n",
    "cur.execute(\"DROP TABLE IF EXISTS parking_citations ;\")\n",
    "\n",
    "cur.execute(\"\"\"\n",
    "    CREATE TABLE parking_citations (\n",
    "        ticket_number VARCHAR(11)  ,\n",
    "        issue_date DATE ,\n",
    "        issue_time FLOAT ,\n",
    "        meter_id VARCHAR(9) ,\n",
    "        marked_time FLOAT ,\n",
    "        rp_state_plate  VARCHAR(2) ,\n",
    "        plate_expiry_date  DATE ,\n",
    "        VIN  VARCHAR(17) ,\n",
    "        make VARCHAR(5) ,\n",
    "        body_style VARCHAR(2) ,\n",
    "        color VARCHAR(2) ,\n",
    "        location VARCHAR(35) ,\n",
    "        route VARCHAR(5) ,\n",
    "        agency VARCHAR(4),\n",
    "        violation_code VARCHAR(9) ,\n",
    "        violation_description VARCHAR(35) ,\n",
    "        fine_amount FLOAT ,\n",
    "        latitude FLOAT ,\n",
    "        longitude FLOAT\n",
    "    ) ;\n",
    "\"\"\")\n",
    "\n",
    "with open('../data/parking_citations_uncorrupted.csv','r') as f:\n",
    "    reader = csv.reader(f)\n",
    "    for row in reader:\n",
    "        cur.execute(\"\"\"INSERT INTO parking_citations (\n",
    "            ticket_number,\n",
    "            issue_date ,\n",
    "            issue_time ,\n",
    "            meter_id ,\n",
    "            marked_time ,\n",
    "            rp_state_plate ,\n",
    "            plate_expiry_date ,\n",
    "            VIN ,\n",
    "            make ,\n",
    "            body_style ,\n",
    "            color ,\n",
    "            location ,\n",
    "            route ,\n",
    "            agency ,\n",
    "            violation_code ,\n",
    "            violation_description ,\n",
    "            fine_amount ,\n",
    "            latitude ,\n",
    "            longitude\n",
    "        ) VALUES (\n",
    "            ? , ? , ? , ? , ? ,\n",
    "            ? , ? , ? , ? , ? ,\n",
    "            ? , ? , ? , ? , ? ,\n",
    "            ? , ? , ? , ?\n",
    "        )\"\"\",row)\n",
    "        \n",
    "con.commit()"
   ]
  },
  {
   "cell_type": "code",
   "execution_count": 28,
   "metadata": {},
   "outputs": [
    {
     "name": "stdout",
     "output_type": "stream",
     "text": [
      "CPU times: user 9.8 s, sys: 396 ms, total: 10.2 s\n",
      "Wall time: 10.2 s\n"
     ]
    },
    {
     "data": {
      "text/plain": [
       "<sqlite3.Cursor at 0x7f138b13b650>"
      ]
     },
     "execution_count": 28,
     "metadata": {},
     "output_type": "execute_result"
    }
   ],
   "source": [
    "%%time \n",
    "\n",
    "# Top 25 most common makes\n",
    "cur.execute(\"\"\"\n",
    "    SELECT\n",
    "        make\n",
    "        ,COUNT(ticket_number) as count\n",
    "    FROM\n",
    "        parking_citations\n",
    "    GROUP BY make\n",
    "    ORDER BY count DESC\n",
    "    LIMIT 25\n",
    "\"\"\")"
   ]
  },
  {
   "cell_type": "code",
   "execution_count": 29,
   "metadata": {},
   "outputs": [
    {
     "name": "stdout",
     "output_type": "stream",
     "text": [
      "CPU times: user 11.7 s, sys: 512 ms, total: 12.2 s\n",
      "Wall time: 12.2 s\n"
     ]
    },
    {
     "data": {
      "text/plain": [
       "<sqlite3.Cursor at 0x7f138b13b650>"
      ]
     },
     "execution_count": 29,
     "metadata": {},
     "output_type": "execute_result"
    }
   ],
   "source": [
    "%%time\n",
    "\n",
    "# Most common color for each Make\n",
    "cur.execute(\"\"\"\n",
    "    SELECT\n",
    "        make,\n",
    "        color,\n",
    "        car_count\n",
    "    FROM\n",
    "    (\n",
    "    SELECT \n",
    "        make,\n",
    "        color,\n",
    "        count(ticket_number) as car_count\n",
    "    FROM \n",
    "        parking_citations\n",
    "    GROUP BY make,color\n",
    "    HAVING car_count = 3\n",
    "    ) a \n",
    "    GROUP BY make, color\n",
    "    HAVING car_count = MAX(car_count)\n",
    "\"\"\")"
   ]
  },
  {
   "cell_type": "code",
   "execution_count": 31,
   "metadata": {},
   "outputs": [
    {
     "name": "stdout",
     "output_type": "stream",
     "text": [
      "CPU times: user 7.86 s, sys: 676 ms, total: 8.54 s\n",
      "Wall time: 8.54 s\n"
     ]
    },
    {
     "data": {
      "text/plain": [
       "<sqlite3.Cursor at 0x7f138b13b650>"
      ]
     },
     "execution_count": 31,
     "metadata": {},
     "output_type": "execute_result"
    }
   ],
   "source": [
    "%%time\n",
    "\n",
    "# First ticket issued for each make\n",
    "cur.execute(\"\"\"\n",
    "    SELECT\n",
    "        make\n",
    "        ,ticket_number\n",
    "    FROM \n",
    "        parking_citations\n",
    "    GROUP BY make \n",
    "    HAVING issue_date = min(issue_date)\n",
    "\"\"\")"
   ]
  },
  {
   "cell_type": "code",
   "execution_count": null,
   "metadata": {},
   "outputs": [],
   "source": []
  }
 ],
 "metadata": {
  "kernelspec": {
   "display_name": "Python 2",
   "language": "python",
   "name": "python2"
  },
  "language_info": {
   "codemirror_mode": {
    "name": "ipython",
    "version": 2
   },
   "file_extension": ".py",
   "mimetype": "text/x-python",
   "name": "python",
   "nbconvert_exporter": "python",
   "pygments_lexer": "ipython2",
   "version": "2.7.16"
  }
 },
 "nbformat": 4,
 "nbformat_minor": 2
}
